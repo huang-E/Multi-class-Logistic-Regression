{
  "nbformat": 4,
  "nbformat_minor": 0,
  "metadata": {
    "colab": {
      "name": "Build a multi class  classifier from scrach.ipynb",
      "version": "0.3.2",
      "provenance": [],
      "collapsed_sections": [
        "mhkLkB5vryLX",
        "ZsltGxFrryLY",
        "UPmtqGJFryLb",
        "8kMzEu1XryLg",
        "IYw5gH0EryLj"
      ],
      "toc_visible": true,
      "include_colab_link": true
    },
    "kernelspec": {
      "display_name": "Python 3",
      "language": "python",
      "name": "python3"
    }
  },
  "cells": [
    {
      "cell_type": "markdown",
      "metadata": {
        "id": "view-in-github",
        "colab_type": "text"
      },
      "source": [
        "[View in Colaboratory](https://colab.research.google.com/github/huang-E/Multi-class-Logistic-Regression/blob/master/Build_a_multi_class_classifier_from_scrach.ipynb)"
      ]
    },
    {
      "metadata": {
        "id": "xSLnEudzPmgt",
        "colab_type": "text"
      },
      "cell_type": "markdown",
      "source": [
        "## Build a  multi class  classifier to classify apps from the Apps Market into a set of categories based on their descriptions"
      ]
    },
    {
      "metadata": {
        "id": "QSeeeotjP54F",
        "colab_type": "text"
      },
      "cell_type": "markdown",
      "source": [
        ""
      ]
    },
    {
      "metadata": {
        "id": "fIvhv-pSQZPL",
        "colab_type": "text"
      },
      "cell_type": "markdown",
      "source": [
        "\n",
        "## Data set description\n",
        "The dataset is collected from the Apps Market. There are four main ﬁles:\n",
        "\n",
        "\n",
        "\n",
        "1. training_data.csv:\n",
        "●\tThere are 20,104 rows; each row corresponds to an app. \n",
        "●\tFor each row, each column is separated by comma (,). The ﬁrst column is the app’s name, with the remaining columns containing the tf-idf values. The tf-idf values are extracted from words in the description of each app.  pre-processing steps is done which resulted in 13,626 unique words. If a word is found in the description of an app, it has a tf-idf value (the tf-idf value is not zero). On the other hand, its tf-idf value is equal to zero if the word is not found in the description of the app. More information about tf-idf could be found in http://en.wikipedia.org/wiki/Tf%E2%80%93idf\n",
        "●\tIn summary, data train.txt is a matrix with dimension: 20,104×13,627 (remember the ﬁrst column is the app’s name). 274158248\n",
        "\n",
        "2. training_desc.csv: \n",
        "●\tThere are 20,104 rows; each row is for an app. \n",
        "●\tFor each row, each column is separated by comma (,). The ﬁrst column is the app’s name and the second column contains the app’s description.\n",
        "\n",
        "3. training_labels.csv: \n",
        "●\tThere are 20,104 rows; each row is for an app. \n",
        "●\tFor each row, each column is separated by comma (,). The ﬁrst column is the app’s name and the second column is for the label.\n",
        "●\tThere are 30 unique labels in total, for example Casual, Health and Fitness, etc.\n",
        "\n",
        "Note that it is not necessary that the same rows of two training ﬁles refer to the same app. Please use the app’s name as a reference.\n",
        "\n",
        "4. test_data.csv: \n",
        "●\tThis is a subset of the original data set; we have split the original data set into 90% for training set and 10% for test set (per label). This ﬁle should NOT be used for training the classiﬁer. \n",
        "●\tYour code must be able to read the test set, and output a ﬁle “predicted_labels.csv” in the same data-format as “training_labels.csv”. Make sure the predictions (classiﬁcation results for the test set) are in the same order as test inputs, i.e. the ﬁrst row of “predicted_labels.csv” corresponds to the ﬁrst row of “test_data.csv” and so on). \n",
        "●\tThe score will be based on how accurate your approach is. We will collect “predicted_labels.csv” and compare it to the actual labels to get the accuracy of your approach. For further testing purposes, we may use a diﬀerent test set while grading.\n"
      ]
    },
    {
      "metadata": {
        "id": "7axTDNFRjz69",
        "colab_type": "text"
      },
      "cell_type": "markdown",
      "source": [
        "\n",
        "\n",
        "\n"
      ]
    },
    {
      "metadata": {
        "id": "KcYZJPr8frtm",
        "colab_type": "text"
      },
      "cell_type": "markdown",
      "source": [
        "\n",
        "\n"
      ]
    },
    {
      "metadata": {
        "id": "nOWmWCq3gEwF",
        "colab_type": "text"
      },
      "cell_type": "markdown",
      "source": [
        "\n",
        "\n",
        "---\n",
        "\n"
      ]
    },
    {
      "metadata": {
        "id": "Dsk4FUnOUx3s",
        "colab_type": "text"
      },
      "cell_type": "markdown",
      "source": [
        "## Authenticate and create PyDrive client."
      ]
    },
    {
      "metadata": {
        "id": "Z_FCt_RtAnpE",
        "colab_type": "code",
        "colab": {}
      },
      "cell_type": "code",
      "source": [
        "!pip install -U -q PyDrive\n",
        "\n",
        "from pydrive.auth import GoogleAuth\n",
        "from pydrive.drive import GoogleDrive\n",
        "from google.colab import auth\n",
        "from oauth2client.client import GoogleCredentials\n",
        "\n",
        "# 1. Authenticate and create the PyDrive client.\n",
        "auth.authenticate_user()\n",
        "gauth = GoogleAuth()\n",
        "gauth.credentials = GoogleCredentials.get_application_default()\n",
        "drive = GoogleDrive(gauth)\n",
        "\n",
        "# PyDrive reference:\n",
        "# https://googledrive.github.io/PyDrive/docs/build/html/index.html\n"
      ],
      "execution_count": 0,
      "outputs": []
    },
    {
      "metadata": {
        "id": "OcFUG6SMVzkY",
        "colab_type": "text"
      },
      "cell_type": "markdown",
      "source": [
        ""
      ]
    },
    {
      "metadata": {
        "id": "eaAbndQYVTKB",
        "colab_type": "text"
      },
      "cell_type": "markdown",
      "source": [
        "## Import data\n"
      ]
    },
    {
      "metadata": {
        "id": "oknGSWjHNCmO",
        "colab_type": "code",
        "colab": {}
      },
      "cell_type": "code",
      "source": [
        "import pandas as pd\n",
        "import io\n",
        "import numpy as np\n",
        "from scipy import optimize\n",
        "import matplotlib.pyplot as pl\n",
        "%matplotlib inline "
      ],
      "execution_count": 0,
      "outputs": []
    },
    {
      "metadata": {
        "id": "A2siYFZuM2JJ",
        "colab_type": "code",
        "colab": {
          "base_uri": "https://localhost:8080/",
          "height": 106
        },
        "outputId": "76dbecff-9e0e-4124-a27b-0e6d4ee41a6d"
      },
      "cell_type": "code",
      "source": [
        "\n",
        "# file_list = drive.ListFile({'q': \"'< Data folder id >' in parents and trashed=false\"}).GetList()\n",
        "# https://drive.google.com/drive/folders/1humyKeBeYZWCrNiHNeeR8rQSLRj_2Qut?usp=sharing\n",
        "file_list = drive.ListFile({'q': \"'1humyKeBeYZWCrNiHNeeR8rQSLRj_2Qut' in parents and trashed=false\"}).GetList()\n",
        "\n",
        "\n",
        "for file1 in file_list:\n",
        "  print('title: %s, id: %s' % (file1['title'], file1['id']))\n",
        "  \n",
        "data_list = drive.ListFile({'q': \"'1M7MIROIHoyBuRg5OMvpnXpqeKlKRzxGV' in parents and trashed=false\"}).GetList()\n",
        "\n",
        "\n",
        "for data1 in data_list:\n",
        "  print('title: %s, id: %s' % (data1['title'], data1['id']))\n"
      ],
      "execution_count": 3,
      "outputs": [
        {
          "output_type": "stream",
          "text": [
            "title: Assignment_1.ipynb, id: 1EsLdaJNy5qEDYccyudJn3BBA1Ix3PmRC\n",
            "title: .git, id: 1Z0hZ4Z23yITfCIV-0qvwUmBCug2UOCPB\n",
            "title: .gitattributes, id: 174b1vsRX8C9TN5d76JGt2xOfWuWPrUOx\n",
            "title: predicted_labels.csv, id: 1nCK9Z1VnAPUc4dGv1cGz23TzmSxigqN_\n",
            "title: .ipynb_checkpoints, id: 1B2ERatG5vFKvWHoAqHUs5fjUDdCC93bN\n"
          ],
          "name": "stdout"
        }
      ]
    },
    {
      "metadata": {
        "id": "iGOTPZQWWlf8",
        "colab_type": "text"
      },
      "cell_type": "markdown",
      "source": [
        "### Pulling data into Google Colab."
      ]
    },
    {
      "metadata": {
        "id": "3E0wyY8BuV0H",
        "colab_type": "text"
      },
      "cell_type": "markdown",
      "source": [
        ""
      ]
    },
    {
      "metadata": {
        "id": "vo17S6sITJfa",
        "colab_type": "code",
        "colab": {}
      },
      "cell_type": "code",
      "source": [
        "training_data_downloaded = drive.CreateFile({'id': '1g69BfWiNwthqQZ-NgJU0-xi9--b4Sta6'})\n",
        "training_data_downloaded.GetContentFile('training_data.csv')\n",
        "\n",
        "training_desc_downloaded = drive.CreateFile({'id': '1tDH0vk9P79lnG0yL12YZW0EqV4spRQcs'})\n",
        "training_desc_downloaded.GetContentFile('training_desc.csv')\n",
        "\n",
        "training_labels_downloaded = drive.CreateFile({'id': '1MHAY1tSnLFNv9lVixTEtjtPLzeJwFs4s'})\n",
        "training_labels_downloaded.GetContentFile('training_labels.csv')\n",
        "\n",
        "test_data_downloaded = drive.CreateFile({'id': '1ZNRsjn8LyrnTJCXhLS5zzn2mETlXst3D'})\n",
        "test_data_downloaded.GetContentFile('test_data.csv') \n",
        "\n",
        "\n",
        "\n"
      ],
      "execution_count": 0,
      "outputs": []
    },
    {
      "metadata": {
        "id": "QhI6TXRtWsl7",
        "colab_type": "text"
      },
      "cell_type": "markdown",
      "source": [
        "### Load data files\n"
      ]
    },
    {
      "metadata": {
        "id": "saVLVnGvT59I",
        "colab_type": "code",
        "colab": {}
      },
      "cell_type": "code",
      "source": [
        "\n",
        "\n",
        "training_data_df = pd.read_csv(\"training_data.csv\",header=None,index_col = 0)\n",
        "training_label_df=pd.read_csv(\"training_labels.csv\",header=None,index_col = 0)\n",
        "training_desc_df=pd.read_csv(\"training_desc.csv\",header=None,index_col = 0)\n"
      ],
      "execution_count": 0,
      "outputs": []
    },
    {
      "metadata": {
        "id": "dqPFJ24K-U6p",
        "colab_type": "code",
        "colab": {}
      },
      "cell_type": "code",
      "source": [
        "### delete the objects release memory\n",
        "del test_data_downloaded \n",
        "del training_data_downloaded\n",
        "del training_labels_downloaded"
      ],
      "execution_count": 0,
      "outputs": []
    },
    {
      "metadata": {
        "id": "eozj6ok6omQn",
        "colab_type": "code",
        "colab": {
          "base_uri": "https://localhost:8080/",
          "height": 101
        },
        "outputId": "70df1244-c118-44ed-cc4d-cd63e262729b"
      },
      "cell_type": "code",
      "source": [
        "training_data_df.info()"
      ],
      "execution_count": 0,
      "outputs": [
        {
          "output_type": "stream",
          "text": [
            "<class 'pandas.core.frame.DataFrame'>\n",
            "Index: 20104 entries, com.borderstylo.retrollect to com.otakumode.otakucamera\n",
            "Columns: 13626 entries, 1 to 13626\n",
            "dtypes: float64(13624), int64(2)\n",
            "memory usage: 2.0+ GB\n"
          ],
          "name": "stdout"
        }
      ]
    },
    {
      "metadata": {
        "id": "tFMZ0qOfovmJ",
        "colab_type": "code",
        "colab": {}
      },
      "cell_type": "code",
      "source": [
        "#reduce file size\n",
        "training_data_df=training_data_df.astype(np.float16)"
      ],
      "execution_count": 0,
      "outputs": []
    },
    {
      "metadata": {
        "id": "4NczW1cTo0FQ",
        "colab_type": "code",
        "colab": {
          "base_uri": "https://localhost:8080/",
          "height": 101
        },
        "outputId": "2cabd593-b817-4eb1-a891-2219e9f0e5f1"
      },
      "cell_type": "code",
      "source": [
        "training_data_df.info()"
      ],
      "execution_count": 0,
      "outputs": [
        {
          "output_type": "stream",
          "text": [
            "<class 'pandas.core.frame.DataFrame'>\n",
            "Index: 20104 entries, com.borderstylo.retrollect to com.otakumode.otakucamera\n",
            "Columns: 13626 entries, 1 to 13626\n",
            "dtypes: float16(13626)\n",
            "memory usage: 522.6+ MB\n"
          ],
          "name": "stdout"
        }
      ]
    },
    {
      "metadata": {
        "id": "X_9yMelvf_GK",
        "colab_type": "text"
      },
      "cell_type": "markdown",
      "source": [
        "\n",
        "\n",
        "---\n"
      ]
    },
    {
      "metadata": {
        "id": "O5zfbjqlgSWN",
        "colab_type": "text"
      },
      "cell_type": "markdown",
      "source": [
        "## A. Introduction"
      ]
    },
    {
      "metadata": {
        "id": "N6KtBHrPgiCB",
        "colab_type": "text"
      },
      "cell_type": "markdown",
      "source": [
        "1- What is the aim of the study?\n"
      ]
    },
    {
      "metadata": {
        "id": "WP6x1GfHgrX1",
        "colab_type": "text"
      },
      "cell_type": "markdown",
      "source": [
        "The aim of the study is to build and evaluate a classifier that uses the description of apps from the Apps Market to accurately predict a category for each app.\n",
        "\n",
        "\n"
      ]
    },
    {
      "metadata": {
        "id": "GRYT8q82g1uv",
        "colab_type": "text"
      },
      "cell_type": "markdown",
      "source": [
        "2- Why is this study important?"
      ]
    },
    {
      "metadata": {
        "id": "W03lryJrg-EX",
        "colab_type": "text"
      },
      "cell_type": "markdown",
      "source": [
        "This study is important because app categories are a pivotal strategy in mobile marketing. For users, app categories assist in finding apps that best align with their needs. For app developers, selecting the right category for an app increases both the quantity and quality of traffic, ultimately expanding sales and customers. However, the numerous category options--33 categories in Google PlayStore [5] and 24 in the Apple [6] Store--pose a challenge in choosing the best category that describes the app. Therefore, there is a need to build a classifier that will objectively produce a category of an app that accurately mirrors the function of the app as detailed in its description. Given the voluminous number of applications available in the Apps Market and those still under development, it is also important to build an accurate classifier that is efficient in terms of running time.\n",
        "\n"
      ]
    },
    {
      "metadata": {
        "id": "vXjExeGHhfdL",
        "colab_type": "text"
      },
      "cell_type": "markdown",
      "source": [
        "## B. Methods "
      ]
    },
    {
      "metadata": {
        "id": "pKM2ASdyn_Cl",
        "colab_type": "text"
      },
      "cell_type": "markdown",
      "source": [
        "**Environment** The code is running under colab without GPU, below shows the summary of the working environment"
      ]
    },
    {
      "metadata": {
        "id": "CJZiN_4noFx9",
        "colab_type": "code",
        "colab": {
          "base_uri": "https://localhost:8080/",
          "height": 944
        },
        "outputId": "1db9637b-4877-458e-b66d-119d84535ea4"
      },
      "cell_type": "code",
      "source": [
        "#CPU info\n",
        "!cat /proc/cpuinfo"
      ],
      "execution_count": 0,
      "outputs": [
        {
          "output_type": "stream",
          "text": [
            "processor\t: 0\r\n",
            "vendor_id\t: GenuineIntel\r\n",
            "cpu family\t: 6\r\n",
            "model\t\t: 79\r\n",
            "model name\t: Intel(R) Xeon(R) CPU @ 2.20GHz\r\n",
            "stepping\t: 0\r\n",
            "microcode\t: 0x1\r\n",
            "cpu MHz\t\t: 2200.000\r\n",
            "cache size\t: 56320 KB\r\n",
            "physical id\t: 0\r\n",
            "siblings\t: 2\r\n",
            "core id\t\t: 0\r\n",
            "cpu cores\t: 1\r\n",
            "apicid\t\t: 0\r\n",
            "initial apicid\t: 0\r\n",
            "fpu\t\t: yes\r\n",
            "fpu_exception\t: yes\r\n",
            "cpuid level\t: 13\r\n",
            "wp\t\t: yes\r\n",
            "flags\t\t: fpu vme de pse tsc msr pae mce cx8 apic sep mtrr pge mca cmov pat pse36 clflush mmx fxsr sse sse2 ss ht syscall nx pdpe1gb rdtscp lm constant_tsc rep_good nopl xtopology nonstop_tsc eagerfpu pni pclmulqdq ssse3 fma cx16 sse4_1 sse4_2 x2apic movbe popcnt aes xsave avx f16c rdrand hypervisor lahf_lm abm 3dnowprefetch kaiser fsgsbase tsc_adjust bmi1 hle avx2 smep bmi2 erms rtm rdseed adx smap xsaveopt\r\n",
            "bugs\t\t:\r\n",
            "bogomips\t: 4400.00\r\n",
            "clflush size\t: 64\r\n",
            "cache_alignment\t: 64\r\n",
            "address sizes\t: 46 bits physical, 48 bits virtual\r\n",
            "power management:\r\n",
            "\r\n",
            "processor\t: 1\r\n",
            "vendor_id\t: GenuineIntel\r\n",
            "cpu family\t: 6\r\n",
            "model\t\t: 79\r\n",
            "model name\t: Intel(R) Xeon(R) CPU @ 2.20GHz\r\n",
            "stepping\t: 0\r\n",
            "microcode\t: 0x1\r\n",
            "cpu MHz\t\t: 2200.000\r\n",
            "cache size\t: 56320 KB\r\n",
            "physical id\t: 0\r\n",
            "siblings\t: 2\r\n",
            "core id\t\t: 0\r\n",
            "cpu cores\t: 1\r\n",
            "apicid\t\t: 1\r\n",
            "initial apicid\t: 1\r\n",
            "fpu\t\t: yes\r\n",
            "fpu_exception\t: yes\r\n",
            "cpuid level\t: 13\r\n",
            "wp\t\t: yes\r\n",
            "flags\t\t: fpu vme de pse tsc msr pae mce cx8 apic sep mtrr pge mca cmov pat pse36 clflush mmx fxsr sse sse2 ss ht syscall nx pdpe1gb rdtscp lm constant_tsc rep_good nopl xtopology nonstop_tsc eagerfpu pni pclmulqdq ssse3 fma cx16 sse4_1 sse4_2 x2apic movbe popcnt aes xsave avx f16c rdrand hypervisor lahf_lm abm 3dnowprefetch kaiser fsgsbase tsc_adjust bmi1 hle avx2 smep bmi2 erms rtm rdseed adx smap xsaveopt\r\n",
            "bugs\t\t:\r\n",
            "bogomips\t: 4400.00\r\n",
            "clflush size\t: 64\r\n",
            "cache_alignment\t: 64\r\n",
            "address sizes\t: 46 bits physical, 48 bits virtual\r\n",
            "power management:\r\n",
            "\r\n"
          ],
          "name": "stdout"
        }
      ]
    },
    {
      "metadata": {
        "id": "u5lGZpV_oqH5",
        "colab_type": "code",
        "colab": {
          "base_uri": "https://localhost:8080/",
          "height": 739
        },
        "outputId": "14563a1b-c7c0-4b5b-d49b-af75ba0f67e1"
      },
      "cell_type": "code",
      "source": [
        "#RAM info\n",
        "!cat /proc/meminfo"
      ],
      "execution_count": 0,
      "outputs": [
        {
          "output_type": "stream",
          "text": [
            "MemTotal:       13341832 kB\r\n",
            "MemFree:         1095244 kB\r\n",
            "MemAvailable:   12631432 kB\r\n",
            "Buffers:          136220 kB\r\n",
            "Cached:         11045716 kB\r\n",
            "SwapCached:            0 kB\r\n",
            "Active:          1830484 kB\r\n",
            "Inactive:        9722788 kB\r\n",
            "Active(anon):     371708 kB\r\n",
            "Inactive(anon):      284 kB\r\n",
            "Active(file):    1458776 kB\r\n",
            "Inactive(file):  9722504 kB\r\n",
            "Unevictable:           0 kB\r\n",
            "Mlocked:               0 kB\r\n",
            "SwapTotal:             0 kB\r\n",
            "SwapFree:              0 kB\r\n",
            "Dirty:               328 kB\r\n",
            "Writeback:             0 kB\r\n",
            "AnonPages:        371408 kB\r\n",
            "Mapped:           157268 kB\r\n",
            "Shmem:               664 kB\r\n",
            "Slab:             632896 kB\r\n",
            "SReclaimable:     608324 kB\r\n",
            "SUnreclaim:        24572 kB\r\n",
            "KernelStack:        3248 kB\r\n",
            "PageTables:         5240 kB\r\n",
            "NFS_Unstable:          0 kB\r\n",
            "Bounce:                0 kB\r\n",
            "WritebackTmp:          0 kB\r\n",
            "CommitLimit:     6670916 kB\r\n",
            "Committed_AS:    1462140 kB\r\n",
            "VmallocTotal:   34359738367 kB\r\n",
            "VmallocUsed:           0 kB\r\n",
            "VmallocChunk:          0 kB\r\n",
            "AnonHugePages:      2048 kB\r\n",
            "HugePages_Total:       0\r\n",
            "HugePages_Free:        0\r\n",
            "HugePages_Rsvd:        0\r\n",
            "HugePages_Surp:        0\r\n",
            "Hugepagesize:       2048 kB\r\n",
            "DirectMap4k:       49100 kB\r\n",
            "DirectMap2M:     4145152 kB\r\n",
            "DirectMap1G:    11534336 kB\r\n"
          ],
          "name": "stdout"
        }
      ]
    },
    {
      "metadata": {
        "id": "l78VSnashn5y",
        "colab_type": "text"
      },
      "cell_type": "markdown",
      "source": [
        "### Pre-processing\n"
      ]
    },
    {
      "metadata": {
        "id": "UdWHc8SLh3m7",
        "colab_type": "text"
      },
      "cell_type": "markdown",
      "source": [
        "##### Creating working data frame\n",
        "Frist step of the data pre-processing is to create a working data frame.\n",
        "“Training_data” and “Training_label” data frames are joined by their index as new working data frame.  One reason behind this method is the sequence of the index for these two data frames are different\n",
        "\n",
        "\n"
      ]
    },
    {
      "metadata": {
        "id": "1rjM35euryJc",
        "colab_type": "code",
        "colab": {}
      },
      "cell_type": "code",
      "source": [
        "#### dataframe rename for columns \"1\":\n",
        "training_label_df.rename(columns={1: 'labels'}, inplace=True)\n",
        "training_desc_df.rename(columns={1: 'description'},inplace=True)\n",
        "### Join columns with other DataFrame  on index to, the sequence are different for labels and data\n",
        "# tmp = training_data_df.join(training_label_df)\n",
        "# working_training_data_df = tmp.set_index('labels')\n",
        "working_training_data_df=training_data_df.join(training_label_df)\n",
        "# use inplace aovid memeory issue\n",
        "working_training_data_df.set_index('labels',inplace=True)\n",
        "# ### join description and labels dataframe\n",
        "# description_labels_df=training_label_df.join(training_desc_df)"
      ],
      "execution_count": 0,
      "outputs": []
    },
    {
      "metadata": {
        "id": "TUmeUENO9L5s",
        "colab_type": "code",
        "colab": {}
      },
      "cell_type": "code",
      "source": [
        "# removing trainin_data_df release memory\n",
        "del training_data_df\n"
      ],
      "execution_count": 0,
      "outputs": []
    },
    {
      "metadata": {
        "id": "f5CM0Biyo-Hr",
        "colab_type": "code",
        "colab": {
          "base_uri": "https://localhost:8080/",
          "height": 101
        },
        "outputId": "8246733a-2004-4630-cca3-d09f05b4dd18"
      },
      "cell_type": "code",
      "source": [
        "working_training_data_df.info()"
      ],
      "execution_count": 0,
      "outputs": [
        {
          "output_type": "stream",
          "text": [
            "<class 'pandas.core.frame.DataFrame'>\n",
            "Index: 20104 entries, Photography to Photography\n",
            "Columns: 13626 entries, 1 to 13626\n",
            "dtypes: float16(13626)\n",
            "memory usage: 522.6+ MB\n"
          ],
          "name": "stdout"
        }
      ]
    },
    {
      "metadata": {
        "id": "GlqTaQvNryJg",
        "colab_type": "code",
        "colab": {
          "base_uri": "https://localhost:8080/",
          "height": 195
        },
        "outputId": "facbbc79-de3c-488a-fa6f-3de7e430043c"
      },
      "cell_type": "code",
      "source": [
        "# Top 3 rows of the dataframe after processing\n",
        "working_training_data_df.head(3)"
      ],
      "execution_count": 0,
      "outputs": [
        {
          "output_type": "execute_result",
          "data": {
            "text/html": [
              "<div>\n",
              "<style scoped>\n",
              "    .dataframe tbody tr th:only-of-type {\n",
              "        vertical-align: middle;\n",
              "    }\n",
              "\n",
              "    .dataframe tbody tr th {\n",
              "        vertical-align: top;\n",
              "    }\n",
              "\n",
              "    .dataframe thead th {\n",
              "        text-align: right;\n",
              "    }\n",
              "</style>\n",
              "<table border=\"1\" class=\"dataframe\">\n",
              "  <thead>\n",
              "    <tr style=\"text-align: right;\">\n",
              "      <th></th>\n",
              "      <th>1</th>\n",
              "      <th>2</th>\n",
              "      <th>3</th>\n",
              "      <th>4</th>\n",
              "      <th>5</th>\n",
              "      <th>6</th>\n",
              "      <th>7</th>\n",
              "      <th>8</th>\n",
              "      <th>9</th>\n",
              "      <th>10</th>\n",
              "      <th>...</th>\n",
              "      <th>13617</th>\n",
              "      <th>13618</th>\n",
              "      <th>13619</th>\n",
              "      <th>13620</th>\n",
              "      <th>13621</th>\n",
              "      <th>13622</th>\n",
              "      <th>13623</th>\n",
              "      <th>13624</th>\n",
              "      <th>13625</th>\n",
              "      <th>13626</th>\n",
              "    </tr>\n",
              "    <tr>\n",
              "      <th>labels</th>\n",
              "      <th></th>\n",
              "      <th></th>\n",
              "      <th></th>\n",
              "      <th></th>\n",
              "      <th></th>\n",
              "      <th></th>\n",
              "      <th></th>\n",
              "      <th></th>\n",
              "      <th></th>\n",
              "      <th></th>\n",
              "      <th></th>\n",
              "      <th></th>\n",
              "      <th></th>\n",
              "      <th></th>\n",
              "      <th></th>\n",
              "      <th></th>\n",
              "      <th></th>\n",
              "      <th></th>\n",
              "      <th></th>\n",
              "      <th></th>\n",
              "      <th></th>\n",
              "    </tr>\n",
              "  </thead>\n",
              "  <tbody>\n",
              "    <tr>\n",
              "      <th>Photography</th>\n",
              "      <td>0.0</td>\n",
              "      <td>0.0</td>\n",
              "      <td>0.0</td>\n",
              "      <td>0.0</td>\n",
              "      <td>0.0</td>\n",
              "      <td>0.0</td>\n",
              "      <td>0.0</td>\n",
              "      <td>0.0</td>\n",
              "      <td>0.0</td>\n",
              "      <td>0.0</td>\n",
              "      <td>...</td>\n",
              "      <td>0.0</td>\n",
              "      <td>0.0</td>\n",
              "      <td>0.0</td>\n",
              "      <td>0.0</td>\n",
              "      <td>0.0</td>\n",
              "      <td>0.0</td>\n",
              "      <td>0.0</td>\n",
              "      <td>0.0</td>\n",
              "      <td>0.0</td>\n",
              "      <td>0.0</td>\n",
              "    </tr>\n",
              "    <tr>\n",
              "      <th>Social</th>\n",
              "      <td>0.0</td>\n",
              "      <td>0.0</td>\n",
              "      <td>0.0</td>\n",
              "      <td>0.0</td>\n",
              "      <td>0.0</td>\n",
              "      <td>0.0</td>\n",
              "      <td>0.0</td>\n",
              "      <td>0.0</td>\n",
              "      <td>0.0</td>\n",
              "      <td>0.0</td>\n",
              "      <td>...</td>\n",
              "      <td>0.0</td>\n",
              "      <td>0.0</td>\n",
              "      <td>0.0</td>\n",
              "      <td>0.0</td>\n",
              "      <td>0.0</td>\n",
              "      <td>0.0</td>\n",
              "      <td>0.0</td>\n",
              "      <td>0.0</td>\n",
              "      <td>0.0</td>\n",
              "      <td>0.0</td>\n",
              "    </tr>\n",
              "    <tr>\n",
              "      <th>Libraries and Demo</th>\n",
              "      <td>0.0</td>\n",
              "      <td>0.0</td>\n",
              "      <td>0.0</td>\n",
              "      <td>0.0</td>\n",
              "      <td>0.0</td>\n",
              "      <td>0.0</td>\n",
              "      <td>0.0</td>\n",
              "      <td>0.0</td>\n",
              "      <td>0.0</td>\n",
              "      <td>0.0</td>\n",
              "      <td>...</td>\n",
              "      <td>0.0</td>\n",
              "      <td>0.0</td>\n",
              "      <td>0.0</td>\n",
              "      <td>0.0</td>\n",
              "      <td>0.0</td>\n",
              "      <td>0.0</td>\n",
              "      <td>0.0</td>\n",
              "      <td>0.0</td>\n",
              "      <td>0.0</td>\n",
              "      <td>0.0</td>\n",
              "    </tr>\n",
              "  </tbody>\n",
              "</table>\n",
              "<p>3 rows × 13626 columns</p>\n",
              "</div>"
            ],
            "text/plain": [
              "                    1      2      3      4      5      6      7      8      \\\n",
              "labels                                                                       \n",
              "Photography           0.0    0.0    0.0    0.0    0.0    0.0    0.0    0.0   \n",
              "Social                0.0    0.0    0.0    0.0    0.0    0.0    0.0    0.0   \n",
              "Libraries and Demo    0.0    0.0    0.0    0.0    0.0    0.0    0.0    0.0   \n",
              "\n",
              "                    9      10     ...    13617  13618  13619  13620  13621  \\\n",
              "labels                            ...                                        \n",
              "Photography           0.0    0.0  ...      0.0    0.0    0.0    0.0    0.0   \n",
              "Social                0.0    0.0  ...      0.0    0.0    0.0    0.0    0.0   \n",
              "Libraries and Demo    0.0    0.0  ...      0.0    0.0    0.0    0.0    0.0   \n",
              "\n",
              "                    13622  13623  13624  13625  13626  \n",
              "labels                                                 \n",
              "Photography           0.0    0.0    0.0    0.0    0.0  \n",
              "Social                0.0    0.0    0.0    0.0    0.0  \n",
              "Libraries and Demo    0.0    0.0    0.0    0.0    0.0  \n",
              "\n",
              "[3 rows x 13626 columns]"
            ]
          },
          "metadata": {
            "tags": []
          },
          "execution_count": 15
        }
      ]
    },
    {
      "metadata": {
        "id": "1UX9bNI0ryJm",
        "colab_type": "code",
        "colab": {
          "base_uri": "https://localhost:8080/",
          "height": 34
        },
        "outputId": "fabe3301-a37f-4222-d437-012d8b62853e"
      },
      "cell_type": "code",
      "source": [
        "working_training_data_df.shape"
      ],
      "execution_count": 0,
      "outputs": [
        {
          "output_type": "execute_result",
          "data": {
            "text/plain": [
              "(20104, 13626)"
            ]
          },
          "metadata": {
            "tags": []
          },
          "execution_count": 16
        }
      ]
    },
    {
      "metadata": {
        "id": "TH9nnCNZryJt",
        "colab_type": "text"
      },
      "cell_type": "markdown",
      "source": [
        "#####  Sparsity  check for the data frame\n",
        "\n",
        "The new working training data frame with dimension: 20,104×13626, but most of the data are zero due to TF-IDF nature, 99.5% of the data are zero.\n"
      ]
    },
    {
      "metadata": {
        "id": "WX9rRgEfryJv",
        "colab_type": "code",
        "colab": {
          "base_uri": "https://localhost:8080/",
          "height": 51
        },
        "outputId": "3dfc08ee-5e0d-4d76-c38e-dae2cec152ac"
      },
      "cell_type": "code",
      "source": [
        "count_nonzero_element = np.count_nonzero(working_training_data_df)\n",
        "total_elements= working_training_data_df.size\n",
        "sparsity =  1 - count_nonzero_element/float(total_elements)\n",
        "print(\"The sparcity of the training dataframe is {:0.3f}\".format(sparsity))\n",
        "print(\"The size of the data is {}\".format(working_training_data_df.shape))"
      ],
      "execution_count": 0,
      "outputs": [
        {
          "output_type": "stream",
          "text": [
            "The sparcity of the training dataframe is 0.995\n",
            "The size of the data is (20104, 13626)\n"
          ],
          "name": "stdout"
        }
      ]
    },
    {
      "metadata": {
        "id": "SDeQEQagryJ1",
        "colab_type": "text"
      },
      "cell_type": "markdown",
      "source": [
        "#### Dimensionality Reduction and Feature selection\n",
        "\n",
        "Due to the large number of features, the computation will become expensive when we later train our classifier. Dimensionality reduction is required. \n",
        "\n",
        "**Runtime 362 seconds**"
      ]
    },
    {
      "metadata": {
        "id": "YdTXlL1SryJ7",
        "colab_type": "text"
      },
      "cell_type": "markdown",
      "source": [
        "###### Information gain method used to select the top N features\n",
        "As per [1], An information gain method is used to rank each feature’s importance in terms of information gain, the more the value of information gain for a feature, the more discriminatory power the feature is.  The $P_i$ is the global probability of class $i$, and $p_i(w)$ is the probability of class $i$, given that the document contains the word $w$. $F(w)$ is the fraction of the documents containing the word $w$. The information gain measures $I(w)$ for a given word w is defined as the formula. The time complexity is $O(n.d.k)$, where $n$ is the number of documents, $d$ is the number of words, $k$ is the number of class. So in our case the time complexity is $O(20104*13626*30)$\n",
        "                      \\begin{equation}\n",
        "\\begin{split}\n",
        "I(w) & = -\\sum_{i=1}^{k}P_ilog(P_i) + F(w)\\sum_{i=1}^{k}p_i(w)log(p_i(w)) + \\\\\n",
        "& (1 - F(w))\\sum_{i=1}^{k}(1-p_i(w))log(1-p_i(w))\n",
        "\\end{split}\n",
        "\\end{equation}\n",
        "\n",
        "\n",
        "From above steps and compare with SVD analysis, the conclusion is we can keep top 3000 features while remaining the majority of the information\n",
        "\n",
        "Selecting 3000 features proved to be correct will be demonstrated in the later stage, it shows the features number increased to 3000, there is not much gain in terms of the performance.\n"
      ]
    },
    {
      "metadata": {
        "id": "dGA2GYZmryJ8",
        "colab_type": "code",
        "colab": {}
      },
      "cell_type": "code",
      "source": [
        "##Preparation for caculating infogain############\n",
        "from collections import Counter\n",
        "class_counts=(Counter(working_training_data_df.index.values))\n",
        "total_samples = len(working_training_data_df )\n",
        "class_list=list(class_counts.keys())\n",
        "### caculate the constant the global probability of class i and its entropy\n",
        "### 30 classes entropy\n",
        "total_entropy = 0\n",
        "for k in class_counts.keys():\n",
        "    P_i=(class_counts[k])/float(total_samples)\n",
        "    total_entropy = total_entropy + P_i*np.log(P_i)\n"
      ],
      "execution_count": 0,
      "outputs": []
    },
    {
      "metadata": {
        "id": "K2BIcxoKryKC",
        "colab_type": "code",
        "colab": {}
      },
      "cell_type": "code",
      "source": [
        "#####################################################\n",
        "#Compute Info gain\n",
        "####################################################\n",
        "def infogain(train_df):\n",
        "    I_w = {}\n",
        "    rows,cols = train_df.shape\n",
        "    ### the feature starts from 1\n",
        "    for col in range(1,13627):\n",
        "        ### starting from 1 to 13627 feature\n",
        "        ## working on each col/feature to get each feature's infogain\n",
        "        check_non_zero = train_df.loc[:,col]>0\n",
        "        count_non_zero = sum(train_df.loc[:,col]>0)\n",
        "        #### check all 30 classes and compute the probability/entropy for all\n",
        "        entropy_1 = 0\n",
        "        entropy_2 = 0\n",
        "        for cls in class_list:\n",
        "            check_cls = (train_df.index.values==cls)\n",
        "            ### this gives the total number of counts meet both w and class condition\n",
        "            check_counts = np.sum(check_non_zero & check_cls)\n",
        "            p_i = check_counts/rows ## the probability of p_i\n",
        "            if p_i !=0 and p_i !=1: #ignore the zerop probability avoid nan value\n",
        "                entropy_1 = entropy_1 +p_i*np.log(p_i)\n",
        "                entropy_2 = entropy_2 + (1-p_i)*np.log(1-p_i)\n",
        "      \n",
        "        f_w = count_non_zero/float(rows)\n",
        "        i_w = -total_entropy + f_w*entropy_1 + (1-f_w)*entropy_2\n",
        "        \n",
        "        I_w[col]=i_w\n",
        "    return I_w"
      ],
      "execution_count": 0,
      "outputs": []
    },
    {
      "metadata": {
        "id": "O9GdbofEryKG",
        "colab_type": "code",
        "colab": {
          "base_uri": "https://localhost:8080/",
          "height": 212
        },
        "outputId": "78b247cc-4714-451c-baef-08ddba7fe317"
      },
      "cell_type": "code",
      "source": [
        "### Cuculate the infogain result\n",
        "import time\n",
        "start_time = time.time()\n",
        "infogain_result=infogain(working_training_data_df)\n",
        "print(\"--- %s seconds ---\" % (time.time() - start_time))\n",
        "infogain_df=pd.DataFrame.from_dict(infogain_result,orient='index')\n",
        "infogain_df.head(5)"
      ],
      "execution_count": 0,
      "outputs": [
        {
          "output_type": "stream",
          "text": [
            "--- 361.96477580070496 seconds ---\n"
          ],
          "name": "stdout"
        },
        {
          "output_type": "execute_result",
          "data": {
            "text/html": [
              "<div>\n",
              "<style scoped>\n",
              "    .dataframe tbody tr th:only-of-type {\n",
              "        vertical-align: middle;\n",
              "    }\n",
              "\n",
              "    .dataframe tbody tr th {\n",
              "        vertical-align: top;\n",
              "    }\n",
              "\n",
              "    .dataframe thead th {\n",
              "        text-align: right;\n",
              "    }\n",
              "</style>\n",
              "<table border=\"1\" class=\"dataframe\">\n",
              "  <thead>\n",
              "    <tr style=\"text-align: right;\">\n",
              "      <th></th>\n",
              "      <th>0</th>\n",
              "    </tr>\n",
              "  </thead>\n",
              "  <tbody>\n",
              "    <tr>\n",
              "      <th>1</th>\n",
              "      <td>3.388888</td>\n",
              "    </tr>\n",
              "    <tr>\n",
              "      <th>2</th>\n",
              "      <td>3.389039</td>\n",
              "    </tr>\n",
              "    <tr>\n",
              "      <th>3</th>\n",
              "      <td>3.387017</td>\n",
              "    </tr>\n",
              "    <tr>\n",
              "      <th>4</th>\n",
              "      <td>3.388989</td>\n",
              "    </tr>\n",
              "    <tr>\n",
              "      <th>5</th>\n",
              "      <td>3.388989</td>\n",
              "    </tr>\n",
              "  </tbody>\n",
              "</table>\n",
              "</div>"
            ],
            "text/plain": [
              "          0\n",
              "1  3.388888\n",
              "2  3.389039\n",
              "3  3.387017\n",
              "4  3.388989\n",
              "5  3.388989"
            ]
          },
          "metadata": {
            "tags": []
          },
          "execution_count": 17
        }
      ]
    },
    {
      "metadata": {
        "id": "ElRhIXGsryKI",
        "colab_type": "code",
        "colab": {}
      },
      "cell_type": "code",
      "source": [
        "### selecting top 3000 features\n",
        "n=3000\n",
        "n_feature_selected=infogain_df.sort_values(by=[0],ascending=True).head(n)\n",
        "new_feature_list=n_feature_selected.index.values"
      ],
      "execution_count": 0,
      "outputs": []
    },
    {
      "metadata": {
        "id": "FrEk6Y3YabX-",
        "colab_type": "code",
        "colab": {
          "base_uri": "https://localhost:8080/",
          "height": 54
        },
        "outputId": "400fc015-8f64-490e-af41-cb7720538ab6"
      },
      "cell_type": "code",
      "source": [
        "from psutil import *\n",
        "virtual_memory()"
      ],
      "execution_count": 0,
      "outputs": [
        {
          "output_type": "execute_result",
          "data": {
            "text/plain": [
              "svmem(total=13662035968, available=5711126528, percent=58.2, used=7690735616, free=194080768, active=9255727104, inactive=3564474368, buffers=133787648, cached=5643431936, shared=679936, slab=569405440)"
            ]
          },
          "metadata": {
            "tags": []
          },
          "execution_count": 20
        }
      ]
    },
    {
      "metadata": {
        "id": "Tyl745gmryKL",
        "colab_type": "text"
      },
      "cell_type": "markdown",
      "source": [
        "#### Result of preprocessing include:\n",
        "* A **reduced** size working dataframe with 3000 features reduced from 13626\n",
        "\n",
        "* A **new_feature_list** containing the 3000 features name, which will be used to reduce dimension for testing data when predicting testing data label"
      ]
    },
    {
      "metadata": {
        "id": "zoaAcpAdryKN",
        "colab_type": "code",
        "colab": {
          "base_uri": "https://localhost:8080/",
          "height": 231
        },
        "outputId": "24738041-43f3-4a6e-baee-afef1d44ae21"
      },
      "cell_type": "code",
      "source": [
        "working_training_data_df_reduced = working_training_data_df.loc[:,new_feature_list]\n",
        "working_training_data_df_reduced.head(3)"
      ],
      "execution_count": 0,
      "outputs": [
        {
          "output_type": "execute_result",
          "data": {
            "text/html": [
              "<div>\n",
              "<style scoped>\n",
              "    .dataframe tbody tr th:only-of-type {\n",
              "        vertical-align: middle;\n",
              "    }\n",
              "\n",
              "    .dataframe tbody tr th {\n",
              "        vertical-align: top;\n",
              "    }\n",
              "\n",
              "    .dataframe thead th {\n",
              "        text-align: right;\n",
              "    }\n",
              "</style>\n",
              "<table border=\"1\" class=\"dataframe\">\n",
              "  <thead>\n",
              "    <tr style=\"text-align: right;\">\n",
              "      <th></th>\n",
              "      <th>1775</th>\n",
              "      <th>570</th>\n",
              "      <th>12701</th>\n",
              "      <th>4146</th>\n",
              "      <th>13264</th>\n",
              "      <th>4498</th>\n",
              "      <th>461</th>\n",
              "      <th>4774</th>\n",
              "      <th>12077</th>\n",
              "      <th>592</th>\n",
              "      <th>...</th>\n",
              "      <th>11603</th>\n",
              "      <th>8692</th>\n",
              "      <th>10093</th>\n",
              "      <th>3069</th>\n",
              "      <th>3423</th>\n",
              "      <th>9313</th>\n",
              "      <th>763</th>\n",
              "      <th>12007</th>\n",
              "      <th>5682</th>\n",
              "      <th>7126</th>\n",
              "    </tr>\n",
              "    <tr>\n",
              "      <th>labels</th>\n",
              "      <th></th>\n",
              "      <th></th>\n",
              "      <th></th>\n",
              "      <th></th>\n",
              "      <th></th>\n",
              "      <th></th>\n",
              "      <th></th>\n",
              "      <th></th>\n",
              "      <th></th>\n",
              "      <th></th>\n",
              "      <th></th>\n",
              "      <th></th>\n",
              "      <th></th>\n",
              "      <th></th>\n",
              "      <th></th>\n",
              "      <th></th>\n",
              "      <th></th>\n",
              "      <th></th>\n",
              "      <th></th>\n",
              "      <th></th>\n",
              "      <th></th>\n",
              "    </tr>\n",
              "  </thead>\n",
              "  <tbody>\n",
              "    <tr>\n",
              "      <th>Photography</th>\n",
              "      <td>0.057404</td>\n",
              "      <td>0.019791</td>\n",
              "      <td>0.000000</td>\n",
              "      <td>0.0</td>\n",
              "      <td>0.0</td>\n",
              "      <td>0.0</td>\n",
              "      <td>0.000000</td>\n",
              "      <td>0.000000</td>\n",
              "      <td>0.0</td>\n",
              "      <td>0.0</td>\n",
              "      <td>...</td>\n",
              "      <td>0.0</td>\n",
              "      <td>0.0</td>\n",
              "      <td>0.0</td>\n",
              "      <td>0.0</td>\n",
              "      <td>0.0</td>\n",
              "      <td>0.0</td>\n",
              "      <td>0.0</td>\n",
              "      <td>0.0</td>\n",
              "      <td>0.0</td>\n",
              "      <td>0.0</td>\n",
              "    </tr>\n",
              "    <tr>\n",
              "      <th>Social</th>\n",
              "      <td>0.000000</td>\n",
              "      <td>0.000000</td>\n",
              "      <td>0.000000</td>\n",
              "      <td>0.0</td>\n",
              "      <td>0.0</td>\n",
              "      <td>0.0</td>\n",
              "      <td>0.000000</td>\n",
              "      <td>0.000000</td>\n",
              "      <td>0.0</td>\n",
              "      <td>0.0</td>\n",
              "      <td>...</td>\n",
              "      <td>0.0</td>\n",
              "      <td>0.0</td>\n",
              "      <td>0.0</td>\n",
              "      <td>0.0</td>\n",
              "      <td>0.0</td>\n",
              "      <td>0.0</td>\n",
              "      <td>0.0</td>\n",
              "      <td>0.0</td>\n",
              "      <td>0.0</td>\n",
              "      <td>0.0</td>\n",
              "    </tr>\n",
              "    <tr>\n",
              "      <th>Libraries and Demo</th>\n",
              "      <td>0.000000</td>\n",
              "      <td>0.022934</td>\n",
              "      <td>0.026047</td>\n",
              "      <td>0.0</td>\n",
              "      <td>0.0</td>\n",
              "      <td>0.0</td>\n",
              "      <td>0.041199</td>\n",
              "      <td>0.041748</td>\n",
              "      <td>0.0</td>\n",
              "      <td>0.0</td>\n",
              "      <td>...</td>\n",
              "      <td>0.0</td>\n",
              "      <td>0.0</td>\n",
              "      <td>0.0</td>\n",
              "      <td>0.0</td>\n",
              "      <td>0.0</td>\n",
              "      <td>0.0</td>\n",
              "      <td>0.0</td>\n",
              "      <td>0.0</td>\n",
              "      <td>0.0</td>\n",
              "      <td>0.0</td>\n",
              "    </tr>\n",
              "  </tbody>\n",
              "</table>\n",
              "<p>3 rows × 3000 columns</p>\n",
              "</div>"
            ],
            "text/plain": [
              "                       1775      570       12701  4146   13264  4498   \\\n",
              "labels                                                                  \n",
              "Photography         0.057404  0.019791  0.000000    0.0    0.0    0.0   \n",
              "Social              0.000000  0.000000  0.000000    0.0    0.0    0.0   \n",
              "Libraries and Demo  0.000000  0.022934  0.026047    0.0    0.0    0.0   \n",
              "\n",
              "                       461       4774   12077  592    ...    11603  8692   \\\n",
              "labels                                                ...                   \n",
              "Photography         0.000000  0.000000    0.0    0.0  ...      0.0    0.0   \n",
              "Social              0.000000  0.000000    0.0    0.0  ...      0.0    0.0   \n",
              "Libraries and Demo  0.041199  0.041748    0.0    0.0  ...      0.0    0.0   \n",
              "\n",
              "                    10093  3069   3423   9313   763    12007  5682   7126   \n",
              "labels                                                                      \n",
              "Photography           0.0    0.0    0.0    0.0    0.0    0.0    0.0    0.0  \n",
              "Social                0.0    0.0    0.0    0.0    0.0    0.0    0.0    0.0  \n",
              "Libraries and Demo    0.0    0.0    0.0    0.0    0.0    0.0    0.0    0.0  \n",
              "\n",
              "[3 rows x 3000 columns]"
            ]
          },
          "metadata": {
            "tags": []
          },
          "execution_count": 21
        }
      ]
    },
    {
      "metadata": {
        "id": "S7nOFXUzHTTm",
        "colab_type": "code",
        "colab": {
          "base_uri": "https://localhost:8080/",
          "height": 54
        },
        "outputId": "d04124a2-a2c8-4ebd-b0f2-424e1eb5df3d"
      },
      "cell_type": "code",
      "source": [
        "from psutil import *\n",
        "virtual_memory()"
      ],
      "execution_count": 0,
      "outputs": [
        {
          "output_type": "execute_result",
          "data": {
            "text/plain": [
              "svmem(total=13662035968, available=5716385792, percent=58.2, used=7685480448, free=188248064, active=9264971776, inactive=3565428736, buffers=137707520, cached=5650599936, shared=679936, slab=569315328)"
            ]
          },
          "metadata": {
            "tags": []
          },
          "execution_count": 28
        }
      ]
    },
    {
      "metadata": {
        "id": "P1_hsOaLhfTf",
        "colab_type": "text"
      },
      "cell_type": "markdown",
      "source": [
        "### Classifier"
      ]
    },
    {
      "metadata": {
        "id": "eL6nw7VJryKV",
        "colab_type": "text"
      },
      "cell_type": "markdown",
      "source": [
        "Logistic regression algorithm is chosen as the classifier.\n",
        "The objective is to learn a function that approximate $P(Y/X)$. The assumption is $P(Y/X)$ is a sigmoid function applied to linear combination of input features\\begin{equation} \\begin{aligned}\\mathbb{P}(y=1|z) &=\\sigma(z)=\\frac{1}{1+e^{-z}}\\\\\\end{aligned}\\end{equation}\n",
        "\n",
        "$z$ is linear combination of the parameter $w$ and input $X$\n",
        "\\begin{equation}\n",
        "{ z_i =  \\mathbf{x}_i \\cdot \\mathbf{w}_i } = w_0 + x_{i1} w_1 + x_{i2} w_2 + \\cdots + x_{i(D+1)} w_{i(D+1)}\n",
        "\\end{equation}\n",
        "for $i={1,...,N}$\n",
        "\n",
        "\n",
        "There are 30 labels to be predicted in this problem, the problem become a multi class classification problem\n",
        "\n",
        "In multi class problem, one vs rest method is used. This issue becomes 30 binary classification problems. so, we need to train 30 classifiers.\n",
        "\n",
        "\n",
        "There are a 3 parts build in for logistic classifier\n",
        "\n",
        "##### Part 1 is the utility function \n",
        "These utility function used for transform the input ($X$, $y$) to required format due to interception\n",
        "\n",
        "##### Part 2 the model training function\n",
        "Part 2 part will return a learned $w$ matrix based on training data input ($X$,$y$) and $Regu$ \n",
        "* **sigm(z)** \n",
        "The sigmoid function work as a link function, the output will return a probability value between 0 and 1\n",
        "\n",
        "\\begin{equation} \\begin{aligned}\\sigma(z)=\\frac{1}{1+e^{-z}}\\\\\\end{aligned}\\end{equation}\n",
        "\n",
        "* **costfunctionJ(w,Regu,X,y)** Logistic Cost function with regularization is defined as\n",
        "\n",
        "\\begin{equation}\n",
        "    J(\\mathbf{w}) = \\sum_{i=1}^{N} \\bigg( -y_i log \\big( p(\\mathbf{x_i}) \\big) +\n",
        "          (1-y_i) \\log \\big( 1 - p(\\mathbf{x_i}) \\big)  \\bigg) + \\frac{\\lambda}{2}| \\mathbf{w} \\|^2\n",
        "\\end{equation}\n",
        "\n",
        "where $w$ is the parameters to learn, $Regu$ is the regularized hyper parameter from cross validation 0.5 is chosen to aovid overfitting. ($X$,$y$)is the training data\n",
        "\n",
        "* **GD(w,Regu,X,y)** Gradient descent function is defined as\n",
        "\n",
        "                             Repeat {\n",
        "\n",
        "\\begin{equation}\n",
        "    \\mathbf{w}_0 :=\\mathbf{w}_0 - \\alpha\\frac{1}{m} \\sum_{i=1}^{m} \\big(h_w\\big(\\mathbf{x^{(i)}} \\big) - y^{(i)}\\big)\\mathbf{x^{(i)}_0}\n",
        "\\end{equation}\n",
        "\n",
        "\\begin{equation}\n",
        "    \\mathbf{w}_j :=\\mathbf{w}_j - \\alpha\\frac{1}{m} \\sum_{i=1}^{m} \\big(h_w\\big(\\mathbf{x^{(i)}} \\big) - y^{(i)}\\big)\\mathbf{x^{(i)}_j} + \\frac{\\lambda}{m} \\mathbf{w}_j \\\n",
        "\\end{equation}\n",
        "\n",
        "                                        }\n",
        "\n",
        "The gradient descent evaluates and update the $w$ every iteration to minimize the error. \n",
        "\n",
        "* **classifier(X,y,Regu,classes,solver)** is function minimize the loss function and return the learned parameter $w$. The classifier function taking traing data ($X$,$y$), $regularizer$, $classes$ and $solver$,(different optimisation method available in SciPy). From cross validation result 'L-BFGS-B' is chosen as the method in terms of efficiency and effectiveness balance.\n",
        "\n",
        "\n",
        "##### Part 3 the prediction function \n",
        "* **prediction(x_trainingdata,w_matrix)** is function to predict, the input is the learned $w$ from classifier function, and new test $X$, the output is the label, which shows the input belong to which category. The predicted class is chosen based on the highest probability out of all predicted result.\n",
        "\n",
        "* **accu_test(predict_y,actual_y)** is function to test the prediction accuracy.\n"
      ]
    },
    {
      "metadata": {
        "id": "AjDQ8JYwhxHl",
        "colab_type": "code",
        "colab": {
          "base_uri": "https://localhost:8080/",
          "height": 34
        },
        "outputId": "60bee20d-a4c5-41a6-81f3-be7e4c51fbbc"
      },
      "cell_type": "code",
      "source": [
        "### get X, y  from reduced dataframe\n",
        "X = working_training_data_df_reduced.values\n",
        "y = working_training_data_df_reduced.index.values\n",
        "\n",
        "## convert y to number\n",
        "from sklearn import preprocessing\n",
        "le = preprocessing.LabelEncoder()\n",
        "le.fit(y.ravel())\n",
        "y=le.transform(y.ravel())\n",
        "\n",
        "print(\"X shape is {} and y shape is {}\".format(X.shape,y.shape))"
      ],
      "execution_count": 0,
      "outputs": [
        {
          "output_type": "stream",
          "text": [
            "X shape is (20104, 3000) and y shape is (20104,)\n"
          ],
          "name": "stdout"
        }
      ]
    },
    {
      "metadata": {
        "id": "wu7Ul9sdryKa",
        "colab_type": "text"
      },
      "cell_type": "markdown",
      "source": [
        "Building classifier"
      ]
    },
    {
      "metadata": {
        "id": "DloiU7dZryKb",
        "colab_type": "code",
        "colab": {}
      },
      "cell_type": "code",
      "source": [
        "from scipy import optimize\n",
        "\n",
        "############# utilitity function used to transform matrix due to constant###############\n",
        "def extend_to_intercept(x):\n",
        "    return np.hstack((np.ones((x.shape[0],1)), x))\n",
        "#transformed to required format\n",
        "def transform(X,y):\n",
        "    transformed_X = extend_to_intercept(X)\n",
        "    transformed_y = np.atleast_2d(y).T\n",
        "    return transformed_X,transformed_y\n",
        "####################################################################\n",
        "\n",
        "\n",
        "#Sigmoid function\n",
        "def sigm(z):\n",
        "    return 1.0/(1.0+np.exp(-z))\n",
        "\n",
        "## The costfunction with regularization\n",
        "def costfunctionJ(w,Regu,X,y):\n",
        "    z = np.dot(X,w)\n",
        "    predictions = sigm(z) # prediction result\n",
        "    m = X.shape[0] # number of sample\n",
        "    # with out regularization\n",
        "    J_1 =(-1/m)*(np.dot(np.log(predictions),y) + np.dot(np.log(1-predictions),(1-y)))\n",
        "    #start from 1, regularization part\n",
        "    J_2 = (np.sum(w**2)-w[0]**2)*Regu/(2*m)\n",
        "    J = J_1 + J_2\n",
        "    return J[0]\n",
        "\n",
        "### Gradient descent\n",
        "def GD(w,Regu,X,y):\n",
        "    z = np.dot(X,w.reshape(-1,1))\n",
        "    predictions = sigm(z)\n",
        "    m = X.shape[0]\n",
        "    jacob_gd = (1/m)*(np.dot(X.T,predictions-y)) + (Regu/m)*w.reshape(-1,1)\n",
        "    jacob_gd[0] = jacob_gd[0] -(Regu/m)/m*w[0].reshape(-1,1)\n",
        "    return jacob_gd.ravel()\n",
        "\n",
        "\n",
        "def classifier(X,y,Regu,classes,solver):\n",
        "    ######\n",
        "    X,y = transform(X,y)\n",
        "    #####\n",
        "    weight_matrix = np.zeros((classes,X.shape[1])) # create numberofclasses*numberoffeature matrix \n",
        "    theta = np.zeros((X.shape[1],1)) # create number of parameters for theta\n",
        "    print(\"building model...\")\n",
        "    for i in range(classes):\n",
        "        \n",
        "        res = optimize.minimize(costfunctionJ, theta, args=(Regu, X, (y == i)*1), method=solver,\n",
        "                       jac=GD)\n",
        "        weight_matrix[i] = res.x\n",
        "    print(\"model built\")\n",
        "    return weight_matrix\n",
        "\n",
        "def prediction(x_test,w_matrix):\n",
        "    ####\n",
        "    x_test = extend_to_intercept(x_test)\n",
        "    ####\n",
        "    predict=sigm(x_test.dot(w_matrix.T))\n",
        "    y_hat = np.argmax(predict,axis=1) # return the result\n",
        "    return y_hat\n",
        "\n",
        "def accu_test(predict_y,actual_y):\n",
        "    return np.sum(predict_y==actual_y)/float(len(predict_y))"
      ],
      "execution_count": 0,
      "outputs": []
    },
    {
      "metadata": {
        "id": "ev9zV335hv0m",
        "colab_type": "text"
      },
      "cell_type": "markdown",
      "source": [
        "## C. Experiments and Results"
      ]
    },
    {
      "metadata": {
        "id": "hWFnjiN2iG1M",
        "colab_type": "text"
      },
      "cell_type": "markdown",
      "source": [
        "#### 10 fold cross validation accuracy"
      ]
    },
    {
      "metadata": {
        "id": "2ggc68nniKM8",
        "colab_type": "text"
      },
      "cell_type": "markdown",
      "source": [
        "The 10-fold cross validation average mean accuracy for the model is 64%.\n",
        "We selected 0.5 as regularised parameters to control overfitting and used 'L-BFGS-B' Limited-memory BFGS as the optimisation method. The reasons chosen these two number will be discussed in extensive study\n",
        "\n",
        "**Runtime 1793 seconds**\n"
      ]
    },
    {
      "metadata": {
        "id": "Ly0I30PriU-s",
        "colab_type": "code",
        "colab": {
          "base_uri": "https://localhost:8080/",
          "height": 387
        },
        "outputId": "975160b1-ec24-4106-c331-07e094dc4a16"
      },
      "cell_type": "code",
      "source": [
        "Regu = 0.5 ## is a constant that determines the amount of smoothing, regularized parameter lambda \n",
        "classes = 30\n",
        "solver = 'L-BFGS-B'\n",
        "\n",
        "# --- 1793.6615533828735 seconds  ---\n",
        "import time\n",
        "start_time = time.time()\n",
        "from sklearn.model_selection import KFold\n",
        "k = 10\n",
        "sum = 0\n",
        "kf = KFold(n_splits=k)\n",
        "result_k_fold =[]\n",
        "for train_index, test_index in kf.split(X):\n",
        "    X_train = X[train_index]\n",
        "    X_test = X[test_index]\n",
        "    y_train = y[train_index]\n",
        "    y_test = y[test_index]\n",
        "    weight_matrix =  classifier(X_train,y_train,Regu,classes,solver)\n",
        "    y_hat =  prediction(X_test,weight_matrix)\n",
        "    result_k_fold.append(accu_test(y_hat,y_test))\n",
        "    sum += accu_test(y_hat,y_test)\n",
        "average = sum/k\n",
        "print(\"--- %s seconds ---\" % (time.time() - start_time))"
      ],
      "execution_count": 0,
      "outputs": [
        {
          "output_type": "stream",
          "text": [
            "building model...\n"
          ],
          "name": "stdout"
        },
        {
          "output_type": "stream",
          "text": [
            "/usr/local/lib/python3.6/dist-packages/ipykernel_launcher.py:24: RuntimeWarning: divide by zero encountered in log\n"
          ],
          "name": "stderr"
        },
        {
          "output_type": "stream",
          "text": [
            "model built\n",
            "building model...\n",
            "model built\n",
            "building model...\n",
            "model built\n",
            "building model...\n",
            "model built\n",
            "building model...\n",
            "model built\n",
            "building model...\n",
            "model built\n",
            "building model...\n",
            "model built\n",
            "building model...\n",
            "model built\n",
            "building model...\n",
            "model built\n",
            "building model...\n",
            "model built\n",
            "--- 1793.6615533828735 seconds ---\n"
          ],
          "name": "stdout"
        }
      ]
    },
    {
      "metadata": {
        "id": "vhk8Rvt2ryKm",
        "colab_type": "code",
        "colab": {}
      },
      "cell_type": "code",
      "source": [
        "Formatted_result_k_fold = [ '%.2f' % elem for elem in result_k_fold ]"
      ],
      "execution_count": 0,
      "outputs": []
    },
    {
      "metadata": {
        "id": "xIx7ViD_ryKp",
        "colab_type": "code",
        "colab": {
          "base_uri": "https://localhost:8080/",
          "height": 51
        },
        "outputId": "f525fcda-155f-4eb2-88ab-d805de4f41da"
      },
      "cell_type": "code",
      "source": [
        "print(\"The model accuracy for each fold is {}\".format(Formatted_result_k_fold))\n",
        "print(\"The model average accuracy is {}\".format(round(average,2)))"
      ],
      "execution_count": 0,
      "outputs": [
        {
          "output_type": "stream",
          "text": [
            "The model accuracy for each fold is ['0.64', '0.63', '0.62', '0.64', '0.64', '0.64', '0.64', '0.64', '0.64', '0.64']\n",
            "The model average accuracy is 0.64\n"
          ],
          "name": "stdout"
        }
      ]
    },
    {
      "metadata": {
        "id": "AaQZtdmCryKw",
        "colab_type": "text"
      },
      "cell_type": "markdown",
      "source": [
        "#### precision, recall, F-measure\n",
        "\n",
        "From 10-fold cross validation we can see the model achieved 64% accuracy for each fold. We will use previous trained model to estimate the performance.\n",
        "The result shows top 3 performance classes are ** Cards and Casino,Medical,News and Magazines** , the F_measures for best performance classes ismore than 80%, while the bottom 3 performance classes are ** Lifestyle,\t\n",
        "Entertainment, Productivity ** their F_measure are less than 50%. \n"
      ]
    },
    {
      "metadata": {
        "id": "96BtEuHCryKx",
        "colab_type": "code",
        "colab": {
          "base_uri": "https://localhost:8080/",
          "height": 1963
        },
        "outputId": "77926f78-b2ad-46aa-9d49-41436e060b73"
      },
      "cell_type": "code",
      "source": [
        "score_metrics=pd.DataFrame(columns=['precision','recall','F_measure'])\n",
        "from sklearn.metrics import confusion_matrix\n",
        "conf = confusion_matrix(y_hat,y_test)\n",
        "### evaluate the conf confusion matrix\n",
        "rows = 30\n",
        "total_predicted_positive = np.sum(conf,axis=0) # for all 30 classes\n",
        "total_actual_positive = np.sum(conf,axis=1) # for all 30 classes\n",
        "TP_array = np.diag(conf) # list of true postive\n",
        "# build dictionary for label code and name\n",
        "class_dict={}\n",
        "\n",
        "for i in range(30):\n",
        "    class_dict[i]=le.inverse_transform(i)\n",
        "for class_c in range(rows):\n",
        "    TP = TP_array[class_c]\n",
        "    precision = round(TP/total_predicted_positive[class_c],2)\n",
        "    score_metrics.loc[class_c,\"precision\"]=precision\n",
        "    recall = round(TP/total_actual_positive[class_c],2)\n",
        "    score_metrics.loc[class_c,\"recall\"]=recall\n",
        "    F_measure = round(2*recall*precision/(recall + precision),2)\n",
        "    score_metrics.loc[class_c,\"F_measure\"]=F_measure\n",
        "# change index name\n",
        "score_metrics.rename(index=class_dict,inplace=True)\n",
        "#sort by best F_measure\n",
        "score_metrics.sort_values(by=['F_measure'],ascending=False)"
      ],
      "execution_count": 0,
      "outputs": [
        {
          "output_type": "stream",
          "text": [
            "/usr/local/lib/python3.6/dist-packages/sklearn/preprocessing/label.py:151: DeprecationWarning: The truth value of an empty array is ambiguous. Returning False, but in future this will result in an error. Use `array.size > 0` to check that an array is not empty.\n",
            "  if diff:\n",
            "/usr/local/lib/python3.6/dist-packages/sklearn/preprocessing/label.py:151: DeprecationWarning: The truth value of an empty array is ambiguous. Returning False, but in future this will result in an error. Use `array.size > 0` to check that an array is not empty.\n",
            "  if diff:\n",
            "/usr/local/lib/python3.6/dist-packages/sklearn/preprocessing/label.py:151: DeprecationWarning: The truth value of an empty array is ambiguous. Returning False, but in future this will result in an error. Use `array.size > 0` to check that an array is not empty.\n",
            "  if diff:\n",
            "/usr/local/lib/python3.6/dist-packages/sklearn/preprocessing/label.py:151: DeprecationWarning: The truth value of an empty array is ambiguous. Returning False, but in future this will result in an error. Use `array.size > 0` to check that an array is not empty.\n",
            "  if diff:\n",
            "/usr/local/lib/python3.6/dist-packages/sklearn/preprocessing/label.py:151: DeprecationWarning: The truth value of an empty array is ambiguous. Returning False, but in future this will result in an error. Use `array.size > 0` to check that an array is not empty.\n",
            "  if diff:\n",
            "/usr/local/lib/python3.6/dist-packages/sklearn/preprocessing/label.py:151: DeprecationWarning: The truth value of an empty array is ambiguous. Returning False, but in future this will result in an error. Use `array.size > 0` to check that an array is not empty.\n",
            "  if diff:\n",
            "/usr/local/lib/python3.6/dist-packages/sklearn/preprocessing/label.py:151: DeprecationWarning: The truth value of an empty array is ambiguous. Returning False, but in future this will result in an error. Use `array.size > 0` to check that an array is not empty.\n",
            "  if diff:\n",
            "/usr/local/lib/python3.6/dist-packages/sklearn/preprocessing/label.py:151: DeprecationWarning: The truth value of an empty array is ambiguous. Returning False, but in future this will result in an error. Use `array.size > 0` to check that an array is not empty.\n",
            "  if diff:\n",
            "/usr/local/lib/python3.6/dist-packages/sklearn/preprocessing/label.py:151: DeprecationWarning: The truth value of an empty array is ambiguous. Returning False, but in future this will result in an error. Use `array.size > 0` to check that an array is not empty.\n",
            "  if diff:\n",
            "/usr/local/lib/python3.6/dist-packages/sklearn/preprocessing/label.py:151: DeprecationWarning: The truth value of an empty array is ambiguous. Returning False, but in future this will result in an error. Use `array.size > 0` to check that an array is not empty.\n",
            "  if diff:\n",
            "/usr/local/lib/python3.6/dist-packages/sklearn/preprocessing/label.py:151: DeprecationWarning: The truth value of an empty array is ambiguous. Returning False, but in future this will result in an error. Use `array.size > 0` to check that an array is not empty.\n",
            "  if diff:\n",
            "/usr/local/lib/python3.6/dist-packages/sklearn/preprocessing/label.py:151: DeprecationWarning: The truth value of an empty array is ambiguous. Returning False, but in future this will result in an error. Use `array.size > 0` to check that an array is not empty.\n",
            "  if diff:\n",
            "/usr/local/lib/python3.6/dist-packages/sklearn/preprocessing/label.py:151: DeprecationWarning: The truth value of an empty array is ambiguous. Returning False, but in future this will result in an error. Use `array.size > 0` to check that an array is not empty.\n",
            "  if diff:\n",
            "/usr/local/lib/python3.6/dist-packages/sklearn/preprocessing/label.py:151: DeprecationWarning: The truth value of an empty array is ambiguous. Returning False, but in future this will result in an error. Use `array.size > 0` to check that an array is not empty.\n",
            "  if diff:\n",
            "/usr/local/lib/python3.6/dist-packages/sklearn/preprocessing/label.py:151: DeprecationWarning: The truth value of an empty array is ambiguous. Returning False, but in future this will result in an error. Use `array.size > 0` to check that an array is not empty.\n",
            "  if diff:\n",
            "/usr/local/lib/python3.6/dist-packages/sklearn/preprocessing/label.py:151: DeprecationWarning: The truth value of an empty array is ambiguous. Returning False, but in future this will result in an error. Use `array.size > 0` to check that an array is not empty.\n",
            "  if diff:\n",
            "/usr/local/lib/python3.6/dist-packages/sklearn/preprocessing/label.py:151: DeprecationWarning: The truth value of an empty array is ambiguous. Returning False, but in future this will result in an error. Use `array.size > 0` to check that an array is not empty.\n",
            "  if diff:\n",
            "/usr/local/lib/python3.6/dist-packages/sklearn/preprocessing/label.py:151: DeprecationWarning: The truth value of an empty array is ambiguous. Returning False, but in future this will result in an error. Use `array.size > 0` to check that an array is not empty.\n",
            "  if diff:\n",
            "/usr/local/lib/python3.6/dist-packages/sklearn/preprocessing/label.py:151: DeprecationWarning: The truth value of an empty array is ambiguous. Returning False, but in future this will result in an error. Use `array.size > 0` to check that an array is not empty.\n",
            "  if diff:\n",
            "/usr/local/lib/python3.6/dist-packages/sklearn/preprocessing/label.py:151: DeprecationWarning: The truth value of an empty array is ambiguous. Returning False, but in future this will result in an error. Use `array.size > 0` to check that an array is not empty.\n",
            "  if diff:\n",
            "/usr/local/lib/python3.6/dist-packages/sklearn/preprocessing/label.py:151: DeprecationWarning: The truth value of an empty array is ambiguous. Returning False, but in future this will result in an error. Use `array.size > 0` to check that an array is not empty.\n",
            "  if diff:\n",
            "/usr/local/lib/python3.6/dist-packages/sklearn/preprocessing/label.py:151: DeprecationWarning: The truth value of an empty array is ambiguous. Returning False, but in future this will result in an error. Use `array.size > 0` to check that an array is not empty.\n",
            "  if diff:\n",
            "/usr/local/lib/python3.6/dist-packages/sklearn/preprocessing/label.py:151: DeprecationWarning: The truth value of an empty array is ambiguous. Returning False, but in future this will result in an error. Use `array.size > 0` to check that an array is not empty.\n",
            "  if diff:\n",
            "/usr/local/lib/python3.6/dist-packages/sklearn/preprocessing/label.py:151: DeprecationWarning: The truth value of an empty array is ambiguous. Returning False, but in future this will result in an error. Use `array.size > 0` to check that an array is not empty.\n",
            "  if diff:\n",
            "/usr/local/lib/python3.6/dist-packages/sklearn/preprocessing/label.py:151: DeprecationWarning: The truth value of an empty array is ambiguous. Returning False, but in future this will result in an error. Use `array.size > 0` to check that an array is not empty.\n",
            "  if diff:\n",
            "/usr/local/lib/python3.6/dist-packages/sklearn/preprocessing/label.py:151: DeprecationWarning: The truth value of an empty array is ambiguous. Returning False, but in future this will result in an error. Use `array.size > 0` to check that an array is not empty.\n",
            "  if diff:\n",
            "/usr/local/lib/python3.6/dist-packages/sklearn/preprocessing/label.py:151: DeprecationWarning: The truth value of an empty array is ambiguous. Returning False, but in future this will result in an error. Use `array.size > 0` to check that an array is not empty.\n",
            "  if diff:\n",
            "/usr/local/lib/python3.6/dist-packages/sklearn/preprocessing/label.py:151: DeprecationWarning: The truth value of an empty array is ambiguous. Returning False, but in future this will result in an error. Use `array.size > 0` to check that an array is not empty.\n",
            "  if diff:\n",
            "/usr/local/lib/python3.6/dist-packages/sklearn/preprocessing/label.py:151: DeprecationWarning: The truth value of an empty array is ambiguous. Returning False, but in future this will result in an error. Use `array.size > 0` to check that an array is not empty.\n",
            "  if diff:\n",
            "/usr/local/lib/python3.6/dist-packages/sklearn/preprocessing/label.py:151: DeprecationWarning: The truth value of an empty array is ambiguous. Returning False, but in future this will result in an error. Use `array.size > 0` to check that an array is not empty.\n",
            "  if diff:\n"
          ],
          "name": "stderr"
        },
        {
          "output_type": "execute_result",
          "data": {
            "text/html": [
              "<div>\n",
              "<style scoped>\n",
              "    .dataframe tbody tr th:only-of-type {\n",
              "        vertical-align: middle;\n",
              "    }\n",
              "\n",
              "    .dataframe tbody tr th {\n",
              "        vertical-align: top;\n",
              "    }\n",
              "\n",
              "    .dataframe thead th {\n",
              "        text-align: right;\n",
              "    }\n",
              "</style>\n",
              "<table border=\"1\" class=\"dataframe\">\n",
              "  <thead>\n",
              "    <tr style=\"text-align: right;\">\n",
              "      <th></th>\n",
              "      <th>precision</th>\n",
              "      <th>recall</th>\n",
              "      <th>F_measure</th>\n",
              "    </tr>\n",
              "  </thead>\n",
              "  <tbody>\n",
              "    <tr>\n",
              "      <th>Cards and Casino</th>\n",
              "      <td>0.92</td>\n",
              "      <td>0.9</td>\n",
              "      <td>0.91</td>\n",
              "    </tr>\n",
              "    <tr>\n",
              "      <th>Medical</th>\n",
              "      <td>0.83</td>\n",
              "      <td>0.84</td>\n",
              "      <td>0.83</td>\n",
              "    </tr>\n",
              "    <tr>\n",
              "      <th>News and Magazines</th>\n",
              "      <td>0.82</td>\n",
              "      <td>0.85</td>\n",
              "      <td>0.83</td>\n",
              "    </tr>\n",
              "    <tr>\n",
              "      <th>Finance</th>\n",
              "      <td>0.88</td>\n",
              "      <td>0.77</td>\n",
              "      <td>0.82</td>\n",
              "    </tr>\n",
              "    <tr>\n",
              "      <th>Weather</th>\n",
              "      <td>0.77</td>\n",
              "      <td>0.85</td>\n",
              "      <td>0.81</td>\n",
              "    </tr>\n",
              "    <tr>\n",
              "      <th>Health and Fitness</th>\n",
              "      <td>0.77</td>\n",
              "      <td>0.81</td>\n",
              "      <td>0.79</td>\n",
              "    </tr>\n",
              "    <tr>\n",
              "      <th>Sports</th>\n",
              "      <td>0.76</td>\n",
              "      <td>0.81</td>\n",
              "      <td>0.78</td>\n",
              "    </tr>\n",
              "    <tr>\n",
              "      <th>Racing</th>\n",
              "      <td>0.74</td>\n",
              "      <td>0.81</td>\n",
              "      <td>0.77</td>\n",
              "    </tr>\n",
              "    <tr>\n",
              "      <th>Photography</th>\n",
              "      <td>0.85</td>\n",
              "      <td>0.68</td>\n",
              "      <td>0.76</td>\n",
              "    </tr>\n",
              "    <tr>\n",
              "      <th>Transportation</th>\n",
              "      <td>0.79</td>\n",
              "      <td>0.68</td>\n",
              "      <td>0.73</td>\n",
              "    </tr>\n",
              "    <tr>\n",
              "      <th>Brain and Puzzle</th>\n",
              "      <td>0.71</td>\n",
              "      <td>0.75</td>\n",
              "      <td>0.73</td>\n",
              "    </tr>\n",
              "    <tr>\n",
              "      <th>Personalization</th>\n",
              "      <td>0.8</td>\n",
              "      <td>0.65</td>\n",
              "      <td>0.72</td>\n",
              "    </tr>\n",
              "    <tr>\n",
              "      <th>Sports Games</th>\n",
              "      <td>0.59</td>\n",
              "      <td>0.82</td>\n",
              "      <td>0.69</td>\n",
              "    </tr>\n",
              "    <tr>\n",
              "      <th>Shopping</th>\n",
              "      <td>0.71</td>\n",
              "      <td>0.63</td>\n",
              "      <td>0.67</td>\n",
              "    </tr>\n",
              "    <tr>\n",
              "      <th>Music and Audio</th>\n",
              "      <td>0.74</td>\n",
              "      <td>0.62</td>\n",
              "      <td>0.67</td>\n",
              "    </tr>\n",
              "    <tr>\n",
              "      <th>Travel and Local</th>\n",
              "      <td>0.61</td>\n",
              "      <td>0.65</td>\n",
              "      <td>0.63</td>\n",
              "    </tr>\n",
              "    <tr>\n",
              "      <th>Education</th>\n",
              "      <td>0.64</td>\n",
              "      <td>0.62</td>\n",
              "      <td>0.63</td>\n",
              "    </tr>\n",
              "    <tr>\n",
              "      <th>Comics</th>\n",
              "      <td>0.49</td>\n",
              "      <td>0.79</td>\n",
              "      <td>0.6</td>\n",
              "    </tr>\n",
              "    <tr>\n",
              "      <th>Books and Reference</th>\n",
              "      <td>0.7</td>\n",
              "      <td>0.51</td>\n",
              "      <td>0.59</td>\n",
              "    </tr>\n",
              "    <tr>\n",
              "      <th>Libraries and Demo</th>\n",
              "      <td>0.45</td>\n",
              "      <td>0.69</td>\n",
              "      <td>0.54</td>\n",
              "    </tr>\n",
              "    <tr>\n",
              "      <th>Communication</th>\n",
              "      <td>0.56</td>\n",
              "      <td>0.53</td>\n",
              "      <td>0.54</td>\n",
              "    </tr>\n",
              "    <tr>\n",
              "      <th>Tools</th>\n",
              "      <td>0.55</td>\n",
              "      <td>0.51</td>\n",
              "      <td>0.53</td>\n",
              "    </tr>\n",
              "    <tr>\n",
              "      <th>Casual</th>\n",
              "      <td>0.49</td>\n",
              "      <td>0.57</td>\n",
              "      <td>0.53</td>\n",
              "    </tr>\n",
              "    <tr>\n",
              "      <th>Arcade and Action</th>\n",
              "      <td>0.68</td>\n",
              "      <td>0.44</td>\n",
              "      <td>0.53</td>\n",
              "    </tr>\n",
              "    <tr>\n",
              "      <th>Business</th>\n",
              "      <td>0.5</td>\n",
              "      <td>0.54</td>\n",
              "      <td>0.52</td>\n",
              "    </tr>\n",
              "    <tr>\n",
              "      <th>Social</th>\n",
              "      <td>0.53</td>\n",
              "      <td>0.47</td>\n",
              "      <td>0.5</td>\n",
              "    </tr>\n",
              "    <tr>\n",
              "      <th>Media and Video</th>\n",
              "      <td>0.56</td>\n",
              "      <td>0.45</td>\n",
              "      <td>0.5</td>\n",
              "    </tr>\n",
              "    <tr>\n",
              "      <th>Productivity</th>\n",
              "      <td>0.4</td>\n",
              "      <td>0.41</td>\n",
              "      <td>0.4</td>\n",
              "    </tr>\n",
              "    <tr>\n",
              "      <th>Lifestyle</th>\n",
              "      <td>0.21</td>\n",
              "      <td>0.45</td>\n",
              "      <td>0.29</td>\n",
              "    </tr>\n",
              "    <tr>\n",
              "      <th>Entertainment</th>\n",
              "      <td>0.2</td>\n",
              "      <td>0.37</td>\n",
              "      <td>0.26</td>\n",
              "    </tr>\n",
              "  </tbody>\n",
              "</table>\n",
              "</div>"
            ],
            "text/plain": [
              "                    precision recall F_measure\n",
              "Cards and Casino         0.92    0.9      0.91\n",
              "Medical                  0.83   0.84      0.83\n",
              "News and Magazines       0.82   0.85      0.83\n",
              "Finance                  0.88   0.77      0.82\n",
              "Weather                  0.77   0.85      0.81\n",
              "Health and Fitness       0.77   0.81      0.79\n",
              "Sports                   0.76   0.81      0.78\n",
              "Racing                   0.74   0.81      0.77\n",
              "Photography              0.85   0.68      0.76\n",
              "Transportation           0.79   0.68      0.73\n",
              "Brain and Puzzle         0.71   0.75      0.73\n",
              "Personalization           0.8   0.65      0.72\n",
              "Sports Games             0.59   0.82      0.69\n",
              "Shopping                 0.71   0.63      0.67\n",
              "Music and Audio          0.74   0.62      0.67\n",
              "Travel and Local         0.61   0.65      0.63\n",
              "Education                0.64   0.62      0.63\n",
              "Comics                   0.49   0.79       0.6\n",
              "Books and Reference       0.7   0.51      0.59\n",
              "Libraries and Demo       0.45   0.69      0.54\n",
              "Communication            0.56   0.53      0.54\n",
              "Tools                    0.55   0.51      0.53\n",
              "Casual                   0.49   0.57      0.53\n",
              "Arcade and Action        0.68   0.44      0.53\n",
              "Business                  0.5   0.54      0.52\n",
              "Social                   0.53   0.47       0.5\n",
              "Media and Video          0.56   0.45       0.5\n",
              "Productivity              0.4   0.41       0.4\n",
              "Lifestyle                0.21   0.45      0.29\n",
              "Entertainment             0.2   0.37      0.26"
            ]
          },
          "metadata": {
            "tags": []
          },
          "execution_count": 29
        }
      ]
    },
    {
      "metadata": {
        "id": "y_xa-3K1iUS_",
        "colab_type": "text"
      },
      "cell_type": "markdown",
      "source": [
        "### Extensive Analysis\n",
        "\n"
      ]
    },
    {
      "metadata": {
        "id": "TsNSd7rZryK0",
        "colab_type": "text"
      },
      "cell_type": "markdown",
      "source": [
        "In this part, we looked at how to select optimisation method $solver$, the optimal hyper parameter $Regu$, and the optimal number of feature sizes\n",
        " \n",
        "1.  5 optimisation methods evaluated and tested in SciPy minimize optimisation\n",
        "need to select the one with effectiveness(accuracy) and efficiency (running time) balance\n",
        "\n",
        "2. In order aovid overfitting of the model hyper parameter $Regu$ needs to be chosen carefully\n",
        "\n",
        "3. The more feature included will cause more computation time, but not necessarily improve the performance, so choosing the least number of features while keep the performance is important\n",
        "\n",
        "\n",
        "\n",
        "We used cross validation to find these  optimal values \n",
        "\n",
        "The extensive analysis show the optimal value for $solver$ is ** 'L-BFGS-B' **, $Regu$ **0.5**, number of feature is **3000**\n",
        "\n"
      ]
    },
    {
      "metadata": {
        "id": "7KdIuNOPryK1",
        "colab_type": "text"
      },
      "cell_type": "markdown",
      "source": [
        "#### 1. Chosing the optmisation method"
      ]
    },
    {
      "metadata": {
        "id": "avGE-c9zieOc",
        "colab_type": "text"
      },
      "cell_type": "markdown",
      "source": [
        "** First get reduced size of data for faster computation **"
      ]
    },
    {
      "metadata": {
        "id": "hZ8d-d6LryK4",
        "colab_type": "code",
        "colab": {}
      },
      "cell_type": "code",
      "source": [
        "### firstly get reduced size of the data \n",
        "### sort the infogain_df\n",
        "n=500\n",
        "n_feature_selected=infogain_df.sort_values(by=[0],ascending=True).head(n)\n",
        "new_feature_list=n_feature_selected.index.values\n",
        "## reduced dataframe\n",
        "working_training_data_df_reduced = working_training_data_df.loc[:,new_feature_list]\n",
        "\n",
        "\n",
        "### get X, y  from reduced dataframe\n",
        "X = working_training_data_df_reduced.values\n",
        "y = working_training_data_df_reduced.index.values\n",
        "\n",
        "## convert y to number\n",
        "from sklearn import preprocessing\n",
        "le = preprocessing.LabelEncoder()\n",
        "le.fit(y.ravel())\n",
        "y=le.transform(y.ravel())\n",
        "\n",
        "from sklearn.model_selection import train_test_split\n",
        "X_train, X_test, y_train, y_test = train_test_split(\n",
        "    X, y, test_size=0.1, random_state=99)\n"
      ],
      "execution_count": 0,
      "outputs": []
    },
    {
      "metadata": {
        "id": "NvV8Yo7jym14",
        "colab_type": "code",
        "colab": {
          "base_uri": "https://localhost:8080/",
          "height": 54
        },
        "outputId": "4e84989d-0f17-497e-8a7c-8d23d1dce5a9"
      },
      "cell_type": "code",
      "source": [
        "# check memory usage\n",
        "from psutil import *\n",
        "virtual_memory()"
      ],
      "execution_count": 0,
      "outputs": [
        {
          "output_type": "execute_result",
          "data": {
            "text/plain": [
              "svmem(total=13662035968, available=5706395648, percent=58.2, used=7695470592, free=173490176, active=9300389888, inactive=3544465408, buffers=147873792, cached=5645201408, shared=679936, slab=568967168)"
            ]
          },
          "metadata": {
            "tags": []
          },
          "execution_count": 56
        }
      ]
    },
    {
      "metadata": {
        "id": "G89O8-1zryK6",
        "colab_type": "text"
      },
      "cell_type": "markdown",
      "source": [
        "We calculated each solver's accuracy and computation time, with reduced feature size(500), and fixed regularizer(0.5)\n",
        "'L-BFGS-B' method is chosen due to its good accuracy and less time required. This is consistent with result finding in [2]\n",
        "\n",
        "**Runtime 1300 Seconds**"
      ]
    },
    {
      "metadata": {
        "id": "IEl4Jjo6ifu1",
        "colab_type": "code",
        "colab": {}
      },
      "cell_type": "code",
      "source": [
        "# list of solver in Scipy\n",
        "list_of_solver=['L-BFGS-B','BFGS', 'Newton-CG','CG', 'TNC']\n",
        "\n",
        "Regu = 0.5 ## regularized parameter lambda to reduce overfitting \n",
        "classes = 30\n",
        "result_method_n500 = []\n",
        "for solver in list_of_solver:\n",
        "    print(\"{} method starts\".format(solver))\n",
        "    start_time = time.time()\n",
        "    weight_matrix = classifier(X_train,y_train,Regu,classes,solver)\n",
        "    y_hat =  prediction(X_test,weight_matrix)\n",
        "    result = accu_test(y_hat,y_test)\n",
        "    elapsed_time = time.time() - start_time\n",
        "    result_method_n500.append((solver,result,elapsed_time))"
      ],
      "execution_count": 0,
      "outputs": []
    },
    {
      "metadata": {
        "id": "Aite8IN3ryLA",
        "colab_type": "text"
      },
      "cell_type": "markdown",
      "source": [
        "From the plot below we can see 'L-BFGS-B' is the optimal choice for optimisation"
      ]
    },
    {
      "metadata": {
        "id": "79F3upNfryLA",
        "colab_type": "code",
        "colab": {
          "base_uri": "https://localhost:8080/",
          "height": 294
        },
        "outputId": "29796ed0-c640-4c51-e588-8f55d9b148e4"
      },
      "cell_type": "code",
      "source": [
        "\n",
        "methods,accuracy_m,time_m = zip(*result_method_n500)\n",
        "fig, ax = pl.subplots()\n",
        "ax.scatter(accuracy_m, time_m)\n",
        "for i, text in enumerate(methods):\n",
        "    ax.annotate(text,(accuracy_m[i],time_m[i]))\n",
        "pl.title(\"Different solver's accuracy and time required\")\n",
        "pl.xlabel('Accuracy')\n",
        "pl.ylabel('Time required')\n",
        "pl.show()"
      ],
      "execution_count": 0,
      "outputs": [
        {
          "output_type": "display_data",
          "data": {
            "image/png": "[encoded data removed]",
            "text/plain": [
              "<matplotlib.figure.Figure at 0x7f8ff8c85b38>"
            ]
          },
          "metadata": {
            "tags": []
          }
        }
      ]
    },
    {
      "metadata": {
        "id": "jM6msl5vryLC",
        "colab_type": "text"
      },
      "cell_type": "markdown",
      "source": [
        "####  2. Finding the optimal hyper parameter $Regu$, using reduced feature size(500) and fixed method 'L-BFGS-B'\n",
        "\n",
        " **Runtiem 810seconds**\n"
      ]
    },
    {
      "metadata": {
        "id": "xriQzR-yryLG",
        "colab_type": "code",
        "colab": {}
      },
      "cell_type": "code",
      "source": [
        "Regu = 0.05 ## is a constant that determines the amount of smoothing, regularized parameter lambda to reduce overfitting basis starts with 0.05 and increase\n",
        "classes = 30\n",
        "solver = 'L-BFGS-B'\n",
        "result_with_regu =[]\n",
        "for step in range(1,20):\n",
        "    print(\"reguarlizer value {}\".format(Regu*step))\n",
        "    start_time = time.time()\n",
        "    weight_matrix = classifier(X_train,y_train,Regu*step,classes,solver)\n",
        "    y_hat =  prediction(X_test,weight_matrix)\n",
        "    result = accu_test(y_hat,y_test)\n",
        "    elapsed_time = time.time() - start_time\n",
        "    result_with_regu.append((Regu*step,result,elapsed_time))"
      ],
      "execution_count": 0,
      "outputs": []
    },
    {
      "metadata": {
        "id": "IAJuGr8FryLJ",
        "colab_type": "text"
      },
      "cell_type": "markdown",
      "source": [
        "The accuracy is fluctuating when hyper parameter is between 0.3 to 0.6. 0.5 is selected as the optimal parameter"
      ]
    },
    {
      "metadata": {
        "id": "bJq3V5YwryLK",
        "colab_type": "code",
        "colab": {
          "base_uri": "https://localhost:8080/",
          "height": 294
        },
        "outputId": "bf4ecd6a-8cdc-4a7a-a06a-4cc7fa110bb9"
      },
      "cell_type": "code",
      "source": [
        "Regu,accuracy_m,time_m = zip(*result_with_regu)\n",
        "fig, ax = pl.subplots()\n",
        "ax.plot(Regu,accuracy_m)\n",
        "pl.title(\"The accuracy change with hyper parameter Regu\")\n",
        "pl.xlabel('Regu')\n",
        "pl.ylabel('accuracy')\n",
        "pl.show()"
      ],
      "execution_count": 0,
      "outputs": [
        {
          "output_type": "display_data",
          "data": {
            "image/png": "[encoded data removed]",
            "text/plain": [
              "<matplotlib.figure.Figure at 0x7f8ffc36cd30>"
            ]
          },
          "metadata": {
            "tags": []
          }
        }
      ]
    },
    {
      "metadata": {
        "id": "a8LuocyfryLO",
        "colab_type": "text"
      },
      "cell_type": "markdown",
      "source": [
        "#### 3. loop different size of sample to get the optimal number of feature size\n"
      ]
    },
    {
      "metadata": {
        "id": "WD1Jf9IgryLQ",
        "colab_type": "code",
        "colab": {}
      },
      "cell_type": "code",
      "source": [
        "accuracy_reslut = []\n",
        "\n",
        "for i in range(1,20):\n",
        "    n_feature_selected=infogain_df.sort_values(by=[0],ascending=True).head(i*500)\n",
        "    new_feature_list=n_feature_selected.index.values\n",
        "    working_training_data_df_reduced = working_training_data_df.loc[:,new_feature_list]\n",
        "    ### get X, y  from reduced dataframe\n",
        "    X = working_training_data_df_reduced.values\n",
        "    y = working_training_data_df_reduced.index.values\n",
        "\n",
        "    ## convert y to number\n",
        "    from sklearn import preprocessing\n",
        "    le = preprocessing.LabelEncoder()\n",
        "    le.fit(y.ravel())\n",
        "    y=le.transform(y.ravel())\n",
        "\n",
        "    from sklearn.model_selection import train_test_split\n",
        "    X_train, X_test, y_train, y_test = train_test_split(\n",
        "    X, y, test_size=0.2, random_state=66)\n",
        "    \n",
        "    from sklearn.linear_model import LogisticRegression\n",
        "    clf = LogisticRegression()\n",
        "    clf.fit(X_train, y_train)\n",
        "    predictions = clf.predict(X_test)\n",
        "    from sklearn.metrics import accuracy_score\n",
        "    accuracy = accuracy_score(y_test, predictions)\n",
        "    accuracy_reslut.append((i*500,accuracy))\n"
      ],
      "execution_count": 0,
      "outputs": []
    },
    {
      "metadata": {
        "id": "mGjebWRxryLR",
        "colab_type": "text"
      },
      "cell_type": "markdown",
      "source": [
        "The accuracy did not improve much after 3000 features, so selected 3000 features"
      ]
    },
    {
      "metadata": {
        "id": "MLKCcdAIryLR",
        "colab_type": "code",
        "colab": {
          "base_uri": "https://localhost:8080/",
          "height": 294
        },
        "outputId": "1dae8f43-e6c9-4aa6-ca31-929e64a0e155"
      },
      "cell_type": "code",
      "source": [
        "pl.plot(*zip(*accuracy_reslut))\n",
        "pl.title(\"The accuracy change with number of feature\")\n",
        "pl.xlabel('number of features')\n",
        "pl.ylabel('accuracy')\n",
        "pl.show()\n"
      ],
      "execution_count": 0,
      "outputs": [
        {
          "output_type": "display_data",
          "data": {
            "image/png": "[encoded data removed]",
            "text/plain": [
              "<matplotlib.figure.Figure at 0x7f8ffd257b00>"
            ]
          },
          "metadata": {
            "tags": []
          }
        }
      ]
    },
    {
      "metadata": {
        "id": "NHyWvxoDtRdh",
        "colab_type": "text"
      },
      "cell_type": "markdown",
      "source": [
        "## D. Export Results "
      ]
    },
    {
      "metadata": {
        "id": "7SX6tdMdtX53",
        "colab_type": "text"
      },
      "cell_type": "markdown",
      "source": [
        "This is important for your grading.\n",
        "\n",
        "\n",
        "You must save a file named “**predicted_labels.csv**” in the **same data format** as “training_labels.csv”.\n",
        "\n",
        "You can use PyDrive to save the data file (example is not provided here and you should find out how to do it on your own).\n",
        "\n",
        "Make sure the predictions (classiﬁcation results for the test set) are in the **same order** as test inputs, i.e. the ﬁrst row of “predicted_labels.csv” corresponds to the ﬁrst row of “test_data.csv” and so on). \n",
        "\n",
        "Your score will be based on how accurate your approach is. We will collect “predicted_labels.csv” and compare it to the actual labels to get the accuracy of your approach. For further testing purposes, we may use a diﬀerent test set while grading.\n"
      ]
    },
    {
      "metadata": {
        "id": "CBYRlGaCbknL",
        "colab_type": "text"
      },
      "cell_type": "markdown",
      "source": [
        "**Insert the url address of your predicted_labels.csv file:   **\n",
        "\n",
        "---[Predicted_labels.csv](http://s000.tinyupload.com/?file_id=08330322310879146471)\n",
        "\n",
        "\n",
        "\n"
      ]
    },
    {
      "metadata": {
        "id": "MH3ORp3zLqRO",
        "colab_type": "text"
      },
      "cell_type": "markdown",
      "source": [
        "### **Following are just codes how to get the predicted lables no need to run**"
      ]
    },
    {
      "metadata": {
        "id": "mhkLkB5vryLX",
        "colab_type": "text"
      },
      "cell_type": "markdown",
      "source": [
        "##### Getting test data and submission result"
      ]
    },
    {
      "metadata": {
        "id": "6otQHZllryLX",
        "colab_type": "code",
        "colab": {}
      },
      "cell_type": "code",
      "source": [
        "### selecting top 3000 features\n",
        "n=3000\n",
        "n_feature_selected=infogain_df.sort_values(by=[0],ascending=True).head(n)\n",
        "new_feature_list=n_feature_selected.index.values\n",
        "\n",
        "testing_data_df = pd.read_csv(\"test_data.csv\",header=None,index_col = 0)\n",
        "### need to use the same featured used for trained model\n",
        "testing_data_df_reduced = testing_data_df.loc[:,new_feature_list]\n",
        "# create index list for construction dataframe\n",
        "index_name=testing_data_df_reduced.index.values\n",
        "X_testing = testing_data_df_reduced.values"
      ],
      "execution_count": 0,
      "outputs": []
    },
    {
      "metadata": {
        "id": "SW4r0uglAkWi",
        "colab_type": "code",
        "colab": {
          "base_uri": "https://localhost:8080/",
          "height": 34
        },
        "outputId": "8a3c619a-dfc8-4f57-9bc1-66c658b04451"
      },
      "cell_type": "code",
      "source": [
        ""
      ],
      "execution_count": 0,
      "outputs": [
        {
          "output_type": "execute_result",
          "data": {
            "text/plain": [
              "(9500,)"
            ]
          },
          "metadata": {
            "tags": []
          },
          "execution_count": 58
        }
      ]
    },
    {
      "metadata": {
        "id": "ZsltGxFrryLY",
        "colab_type": "text"
      },
      "cell_type": "markdown",
      "source": [
        "#### training on my model"
      ]
    },
    {
      "metadata": {
        "id": "QKqF_mE8ryLY",
        "colab_type": "code",
        "colab": {},
        "outputId": "fb6b2b98-eea1-497b-a57e-2e5b2a142a3d"
      },
      "cell_type": "code",
      "source": [
        "### train model remember to use all available training data, X shape should be\n",
        "### (21034,3000)\n",
        "Regu = 0.5 ## regularized parameter lambda to reduce overfitting \n",
        "classes = 30\n",
        "solver = 'L-BFGS-B'\n",
        "using_trainingdata_model = classifier(X,y,Regu,classes,solver)\n",
        "# y_hat =  prediction(X_test,using_trainingdata_model)\n",
        "# result_on_testdata = accu_test(y_hat,y_test)"
      ],
      "execution_count": 0,
      "outputs": [
        {
          "output_type": "stream",
          "text": [
            "building model...\n"
          ],
          "name": "stdout"
        },
        {
          "output_type": "stream",
          "text": [
            "C:\\Users\\hy\\Anaconda3\\envs\\test_py3\\lib\\site-packages\\ipykernel_launcher.py:24: RuntimeWarning: divide by zero encountered in log\n"
          ],
          "name": "stderr"
        },
        {
          "output_type": "stream",
          "text": [
            "model built\n"
          ],
          "name": "stdout"
        }
      ]
    },
    {
      "metadata": {
        "id": "UPmtqGJFryLb",
        "colab_type": "text"
      },
      "cell_type": "markdown",
      "source": [
        "#### Predict test data with my model"
      ]
    },
    {
      "metadata": {
        "id": "ShjDw5QJryLd",
        "colab_type": "code",
        "colab": {}
      },
      "cell_type": "code",
      "source": [
        "prediction_result_withmymodel = prediction(X_testing,using_trainingdata_model)"
      ],
      "execution_count": 0,
      "outputs": []
    },
    {
      "metadata": {
        "id": "8kMzEu1XryLg",
        "colab_type": "text"
      },
      "cell_type": "markdown",
      "source": [
        "#### construct result for output"
      ]
    },
    {
      "metadata": {
        "id": "p0170MP0ryLh",
        "colab_type": "code",
        "colab": {}
      },
      "cell_type": "code",
      "source": [
        "testing_data_result=pd.DataFrame(columns=['Appname','Predicted Category'])\n",
        "rows= testing_data_df_reduced.shape[0]\n",
        "for i in range(rows):\n",
        "    testing_data_result=testing_data_result.append({'Appname':index_name[i],'Predicted Category':prediction_result_withmymodel[i]},ignore_index=True)\n",
        "### update the Predicted Category column based on class_dict\n",
        "testing_data_result=testing_data_result.replace({\"Predicted Category\":class_dict})\n",
        "# set index as Appname\n",
        "testing_data_result.set_index('Appname',inplace=True)"
      ],
      "execution_count": 0,
      "outputs": []
    },
    {
      "metadata": {
        "id": "IYw5gH0EryLj",
        "colab_type": "text"
      },
      "cell_type": "markdown",
      "source": [
        "#### write result to csv"
      ]
    },
    {
      "metadata": {
        "id": "2S_WJCiWryLk",
        "colab_type": "code",
        "colab": {}
      },
      "cell_type": "code",
      "source": [
        "# writing result to csv, removing header having same format as provided data\n",
        "testing_data_result.to_csv(\"predicted_labels.csv\",header=False)"
      ],
      "execution_count": 0,
      "outputs": []
    },
    {
      "metadata": {
        "id": "z9tuqCpZigo1",
        "colab_type": "text"
      },
      "cell_type": "markdown",
      "source": [
        "## E. Discussion"
      ]
    },
    {
      "metadata": {
        "id": "skiNNJW1ikjg",
        "colab_type": "text"
      },
      "cell_type": "markdown",
      "source": [
        "\n",
        "There was a challenge when dealing with large datasets, the memory for Colab is not suffcient. Worked out a few workaround to solve these issue, one of the workaround is to change the default datatype in pandas dataframe from float64 to float16, which saved about 1.5GB RAM\n",
        "\n",
        "\n",
        "From the F_score measurement we noticed some classes are perform better than others, what the reasons behind it.\n",
        "we investigate the description from two aspects\n",
        "* One from the average description length\n",
        "it was assumed the more information in the description will give better prediction result, the result is surprisingly showing the worst performance class \"Entertainment\" having more average description compared to the best performance class \"Cards and Casino\", so the length of the description is not the reason\n",
        "\n",
        "* Second from the actual description. We looked at Cards and Casino and Entertainment's description in details. Cards and Casino are showing best F_measure, Entertainment are showing worst F_measure. From the contents we can see it is easier for user to classify the app to Cards and Casino when reading the description. Cards and Casino App having more discriminative description\n"
      ]
    },
    {
      "metadata": {
        "id": "8kNsQeq5ryLs",
        "colab_type": "code",
        "colab": {
          "base_uri": "https://localhost:8080/",
          "height": 303
        },
        "outputId": "914a9398-a06d-4144-fbfb-837a446ac12b"
      },
      "cell_type": "code",
      "source": [
        "### get the string length of each description\n",
        "# ### join description and labels dataframe\n",
        "description_labels_df=training_label_df.join(training_desc_df)\n",
        "description_labels_df['desc_len']=description_labels_df['description'].apply(len)\n",
        "description_labels_df.groupby(['labels'])['desc_len'].mean().sort_values().head(15)"
      ],
      "execution_count": 0,
      "outputs": [
        {
          "output_type": "execute_result",
          "data": {
            "text/plain": [
              "labels\n",
              "Libraries and Demo     632.417537\n",
              "Comics                 780.986072\n",
              "News and Magazines     806.721127\n",
              "Lifestyle              868.909091\n",
              "Sports Games           922.946759\n",
              "Shopping               930.890733\n",
              "Media and Video        946.895664\n",
              "Social                 948.951791\n",
              "Sports                 955.584541\n",
              "Cards and Casino       975.285917\n",
              "Transportation         993.660615\n",
              "Racing                1037.958716\n",
              "Entertainment         1039.455202\n",
              "Weather               1053.526860\n",
              "Brain and Puzzle      1054.477825\n",
              "Name: desc_len, dtype: float64"
            ]
          },
          "metadata": {
            "tags": []
          },
          "execution_count": 59
        }
      ]
    },
    {
      "metadata": {
        "id": "8Yo94IcmryLx",
        "colab_type": "code",
        "colab": {
          "base_uri": "https://localhost:8080/",
          "height": 754
        },
        "outputId": "74146700-a87a-4582-f59c-6fef90b66f77"
      },
      "cell_type": "code",
      "source": [
        "#Example of the \"Cards and Casino\" best F_measure with shorter description\n",
        "pd.set_option('display.max_colwidth', -1)\n",
        "description_labels_df[description_labels_df['labels']==\"Cards and Casino\"].head(3)"
      ],
      "execution_count": 0,
      "outputs": [
        {
          "output_type": "execute_result",
          "data": {
            "text/html": [
              "<div>\n",
              "<style scoped>\n",
              "    .dataframe tbody tr th:only-of-type {\n",
              "        vertical-align: middle;\n",
              "    }\n",
              "\n",
              "    .dataframe tbody tr th {\n",
              "        vertical-align: top;\n",
              "    }\n",
              "\n",
              "    .dataframe thead th {\n",
              "        text-align: right;\n",
              "    }\n",
              "</style>\n",
              "<table border=\"1\" class=\"dataframe\">\n",
              "  <thead>\n",
              "    <tr style=\"text-align: right;\">\n",
              "      <th></th>\n",
              "      <th>labels</th>\n",
              "      <th>description</th>\n",
              "      <th>desc_len</th>\n",
              "    </tr>\n",
              "    <tr>\n",
              "      <th>0</th>\n",
              "      <th></th>\n",
              "      <th></th>\n",
              "      <th></th>\n",
              "    </tr>\n",
              "  </thead>\n",
              "  <tbody>\n",
              "    <tr>\n",
              "      <th>com.infimosoft.videopoker</th>\n",
              "      <td>Cards and Casino</td>\n",
              "      <td>Simple and fast video poker game with the look and feel of a classic video poker machine like the ones you can find in a Las Vegas casino. Video Poker Machines: Jacks or Better Double Bonus Joker's Wild</td>\n",
              "      <td>202</td>\n",
              "    </tr>\n",
              "    <tr>\n",
              "      <th>air.biz.rightshift.clickfun.casino</th>\n",
              "      <td>Cards and Casino</td>\n",
              "      <td>Get ready for a whole new way to spin and win with the brand new version of Clickfun Casino! Enjoy the thrills of virtual casino action with Clickfun Casino for FREE on your mobile device. Install the app now and join our community of millions of players in one of Facebook’s fastest growing social casinos. It’s Vegas on your phone. And a slots experience second to none  wherever you are  whenever you like. Download our app and start cashing in on: • Free coins available every day and every hour! • Level-up achievements that unlock more pay lines  bigger instant wins and extra game features. • Free spins and regular giveaways are yours for the taking. • Give gifts  share successes and be part of the friendliest slots community online. • Multiply the rewards of winning by sharing the fun with friends! • Sensational slots graphics and high quality realistic sound effects. • Easy to play slots fun that gives you true-to-life gaming excitement. You’ll feel like you’re right inside a real casino! ★☆ Totally Free Play ★☆ Come in for a spin and stay to play! It’s totally  100%  no-small-print FREE. ★☆ Get Social ★☆ Challenge your friends and beat your rivals as you play for free. Watch the reels line up for big wins and even bigger brags as you earn your way up the ranks and hear the coins roll in. Get ahead with the app by collecting your daily free chips on the go. Accumulate as many as you can as you aim for total slots domination! Share gifts and enjoy tournament-style gaming where your personal slots strategy and dedication to winning will put you ahead of the pack. ★☆ Newcomers always welcome! ★☆ Even if you’re only starting out  you’ll have an immediate advantage. Newcomers get a fat virtual bankroll that’ll give you the boost you need to sample the social features and work your way up to taking on the champs! ★☆ The Clickfun Game Selection ★☆ Don’t settle for playing the same old slots. You deserve the best of the best. Loads of hot slot games are all yours for the taking  and we never stop dreaming up more ways for you to play and win in the Clickfun lab. Supported Devices: Our app runs on all devices running Android 2.2 (Froyo) and above  with 768MB of memory or more. Things You Need To Know: • The app currently includes the following games: Alley Cats  Kings and Queens  Snow Honeys  Stash of the Titans  Lucky Shot  The Grand Circus  Gypsy Queen  Reel Baron  Polar Bash  Mardi Gras Fever  Double O' Cash  Bomber Girls  Lucky News Network and Kung Fu Monkey. Many more are coming soon! • Our Terms of Use and Privacy Policy can be viewed in full at http://m.clickfun.com/terms and http://m.clickfun.com/privacy • If you have any problems with the app or need any help along the way  contact our support team at http://m.clickfun.com/contact Happy gaming!</td>\n",
              "      <td>2797</td>\n",
              "    </tr>\n",
              "    <tr>\n",
              "      <th>com.gamblekings.casinoslotsm</th>\n",
              "      <td>Cards and Casino</td>\n",
              "      <td>Hot casino king fever Vegas Style with free coins to feed your Free Slot Machines Multiple Reels crave! Made for free lucky Grand Casino apps fans. Enjoy the best casino style multiple reels free slots machines fun with a twisted flavour that will bring you hours of entertainment and have a crush on our apps! + Free unlimited credits or coins  after using your 3000 you get bonus 3000 every time! Bonus  bonus  bonus! + No money involved at all  all coins are free so you can bet without worrying and enjoy slot machines multiple reels for free + Perfect small free slots games android app under 5MB in size with multiple reels (5) + Spin the multiple reels and win for free constantly to keep the fun going! + Multiple themes across our slots machines to chose from for lucky 7 charms + Vegas sounds so you get the action feel of a real live casino or live tournament +High quality HD graphics for tablets and smartphones compatibility fro maximum free casino fun Try all our games including Free Offline Video Poker Games  Slots Machines and much more to come soon such as: Multiple Reels Free Slot Machines  BlackJack  Texas Hold'em  Roulette  and Bingo among others. If you like our free casino games please rate and comment! Any suggestions will be taken seriously to give you the best casino gaming experience! Thank you for choosing our games and we expect to hear from you! Have a great day!</td>\n",
              "      <td>1401</td>\n",
              "    </tr>\n",
              "  </tbody>\n",
              "</table>\n",
              "</div>"
            ],
            "text/plain": [
              "                                              labels  \\\n",
              "0                                                      \n",
              "com.infimosoft.videopoker           Cards and Casino   \n",
              "air.biz.rightshift.clickfun.casino  Cards and Casino   \n",
              "com.gamblekings.casinoslotsm        Cards and Casino   \n",
              "\n",
              "                                                                                                                                                                                                                                                                                                                                                                                                                                                                                                                                                                                                                                                                                                                                                                                                                                                                                                                                                                                                                                                                                                                                                                                                                                                                                                                                                                                                                                                                                                                                                                                                                                                                                                                                                                                                                                                                                                                                                                                                                                                                                                                                                                                                                                                                                                                                                                                                                                                                                                                                                                                                                                                                                                                                                                                                                                                                                                                                      description  \\\n",
              "0                                                                                                                                                                                                                                                                                                                                                                                                                                                                                                                                                                                                                                                                                                                                                                                                                                                                                                                                                                                                                                                                                                                                                                                                                                                                                                                                                                                                                                                                                                                                                                                                                                                                                                                                                                                                                                                                                                                                                                                                                                                                                                                                                                                                                                                                                                                                                                                                                                                                                                                                                                                                                                                                                                                                                                                                                                                                                                                                                   \n",
              "com.infimosoft.videopoker           Simple and fast video poker game with the look and feel of a classic video poker machine like the ones you can find in a Las Vegas casino. Video Poker Machines: Jacks or Better Double Bonus Joker's Wild                                                                                                                                                                                                                                                                                                                                                                                                                                                                                                                                                                                                                                                                                                                                                                                                                                                                                                                                                                                                                                                                                                                                                                                                                                                                                                                                                                                                                                                                                                                                                                                                                                                                                                                                                                                                                                                                                                                                                                                                                                                                                                                                                                                                                                                                                                                                                                                                                                                                                                                                                                                                                                                                                                      \n",
              "air.biz.rightshift.clickfun.casino  Get ready for a whole new way to spin and win with the brand new version of Clickfun Casino! Enjoy the thrills of virtual casino action with Clickfun Casino for FREE on your mobile device. Install the app now and join our community of millions of players in one of Facebook’s fastest growing social casinos. It’s Vegas on your phone. And a slots experience second to none  wherever you are  whenever you like. Download our app and start cashing in on: • Free coins available every day and every hour! • Level-up achievements that unlock more pay lines  bigger instant wins and extra game features. • Free spins and regular giveaways are yours for the taking. • Give gifts  share successes and be part of the friendliest slots community online. • Multiply the rewards of winning by sharing the fun with friends! • Sensational slots graphics and high quality realistic sound effects. • Easy to play slots fun that gives you true-to-life gaming excitement. You’ll feel like you’re right inside a real casino! ★☆ Totally Free Play ★☆ Come in for a spin and stay to play! It’s totally  100%  no-small-print FREE. ★☆ Get Social ★☆ Challenge your friends and beat your rivals as you play for free. Watch the reels line up for big wins and even bigger brags as you earn your way up the ranks and hear the coins roll in. Get ahead with the app by collecting your daily free chips on the go. Accumulate as many as you can as you aim for total slots domination! Share gifts and enjoy tournament-style gaming where your personal slots strategy and dedication to winning will put you ahead of the pack. ★☆ Newcomers always welcome! ★☆ Even if you’re only starting out  you’ll have an immediate advantage. Newcomers get a fat virtual bankroll that’ll give you the boost you need to sample the social features and work your way up to taking on the champs! ★☆ The Clickfun Game Selection ★☆ Don’t settle for playing the same old slots. You deserve the best of the best. Loads of hot slot games are all yours for the taking  and we never stop dreaming up more ways for you to play and win in the Clickfun lab. Supported Devices: Our app runs on all devices running Android 2.2 (Froyo) and above  with 768MB of memory or more. Things You Need To Know: • The app currently includes the following games: Alley Cats  Kings and Queens  Snow Honeys  Stash of the Titans  Lucky Shot  The Grand Circus  Gypsy Queen  Reel Baron  Polar Bash  Mardi Gras Fever  Double O' Cash  Bomber Girls  Lucky News Network and Kung Fu Monkey. Many more are coming soon! • Our Terms of Use and Privacy Policy can be viewed in full at http://m.clickfun.com/terms and http://m.clickfun.com/privacy • If you have any problems with the app or need any help along the way  contact our support team at http://m.clickfun.com/contact Happy gaming!   \n",
              "com.gamblekings.casinoslotsm        Hot casino king fever Vegas Style with free coins to feed your Free Slot Machines Multiple Reels crave! Made for free lucky Grand Casino apps fans. Enjoy the best casino style multiple reels free slots machines fun with a twisted flavour that will bring you hours of entertainment and have a crush on our apps! + Free unlimited credits or coins  after using your 3000 you get bonus 3000 every time! Bonus  bonus  bonus! + No money involved at all  all coins are free so you can bet without worrying and enjoy slot machines multiple reels for free\n",
              "+ Perfect small free slots games android app under 5MB in size with multiple reels (5)\n",
              "+ Spin the multiple reels and win for free constantly to keep the fun going!\n",
              "+ Multiple themes across our slots machines to chose from for lucky 7 charms\n",
              "+ Vegas sounds so you get the action feel of a real live casino or live tournament +High quality HD graphics for tablets and smartphones compatibility fro maximum free casino fun Try all our games including Free Offline Video Poker Games  Slots Machines and much more to come soon such as: Multiple Reels Free Slot Machines  BlackJack  Texas Hold'em  Roulette  and Bingo among others. If you like our free casino games please rate and comment! Any suggestions will be taken seriously to give you the best casino gaming experience! Thank you for choosing our games and we expect to hear from you! Have a great day!                                                                                                                                                                                                                                                                                                                                                                                                                                                                                                                                                                                                                                                                                                                                                                                                                                                                                                                                                                                                                                                                                                                                                                                                                                                                                                                                                                                                                                                       \n",
              "\n",
              "                                    desc_len  \n",
              "0                                             \n",
              "com.infimosoft.videopoker           202       \n",
              "air.biz.rightshift.clickfun.casino  2797      \n",
              "com.gamblekings.casinoslotsm        1401      "
            ]
          },
          "metadata": {
            "tags": []
          },
          "execution_count": 60
        }
      ]
    },
    {
      "metadata": {
        "id": "VvmZE9vgryL1",
        "colab_type": "code",
        "colab": {
          "base_uri": "https://localhost:8080/",
          "height": 351
        },
        "outputId": "f0ca5fb6-0406-404c-c294-1b0c8014d9c8"
      },
      "cell_type": "code",
      "source": [
        "#Example of the \"Entertainment \" poor F_measure, with longer description\n",
        "pd.set_option('display.max_colwidth', -1)\n",
        "description_labels_df[description_labels_df['labels']==\"Entertainment\"].head(3)"
      ],
      "execution_count": 0,
      "outputs": [
        {
          "output_type": "execute_result",
          "data": {
            "text/html": [
              "<div>\n",
              "<style scoped>\n",
              "    .dataframe tbody tr th:only-of-type {\n",
              "        vertical-align: middle;\n",
              "    }\n",
              "\n",
              "    .dataframe tbody tr th {\n",
              "        vertical-align: top;\n",
              "    }\n",
              "\n",
              "    .dataframe thead th {\n",
              "        text-align: right;\n",
              "    }\n",
              "</style>\n",
              "<table border=\"1\" class=\"dataframe\">\n",
              "  <thead>\n",
              "    <tr style=\"text-align: right;\">\n",
              "      <th></th>\n",
              "      <th>labels</th>\n",
              "      <th>description</th>\n",
              "      <th>desc_len</th>\n",
              "    </tr>\n",
              "    <tr>\n",
              "      <th>0</th>\n",
              "      <th></th>\n",
              "      <th></th>\n",
              "      <th></th>\n",
              "    </tr>\n",
              "  </thead>\n",
              "  <tbody>\n",
              "    <tr>\n",
              "      <th>com.andser.software.spraycans</th>\n",
              "      <td>Entertainment</td>\n",
              "      <td>Finally you can paint walls with a spray. Create your customized graffiti! Set your color  choose your cap and go! Save  share your creations  or set as wallpapers! Naturally  don't forget to shake your spray can to refill! ***Features: 20 different backgrounds. 5 different spray-sizes Paint leaks effect undo - redo option save  share and set as wallpaper option shake feature! sounds on/off new: now you can insert stars to your creation! Have fun!! Follow AndserLab on Twitter and Facebook!</td>\n",
              "      <td>494</td>\n",
              "    </tr>\n",
              "    <tr>\n",
              "      <th>com.coresense.iFangsLite</th>\n",
              "      <td>Entertainment</td>\n",
              "      <td>Updated with 4 fangs and Galaxy S3 support! Make your friends laugh with  iFangs Lite ! Check out the paid version of iFangs for the full suite of fangs. Scare your parents  put them on your dog  or use them in your next family portrait. With  iFangs Lite   your imagination is the limit! iFangs will seamlessly loop until you're done scaring your friends. To go back to the main menu  simply shake your device.</td>\n",
              "      <td>411</td>\n",
              "    </tr>\n",
              "    <tr>\n",
              "      <th>com.zoomart.Maze_Scary_Horror</th>\n",
              "      <td>Entertainment</td>\n",
              "      <td>With this application you can scare your friends. How to play? 1 - Select the monster you want horrible scare. 2 - Use the joystick on the screen of your mobile to control the red ball through the maze. 3 - While progress through the maze  there will come a time when the character suddenly appears you chose a terrible cry  and your friends remain terrified. ✔ Several horrific monsters to scare ✔ Great picture quality ✔ Great sound quality ✔ HD-ready tables ✔ It's free!</td>\n",
              "      <td>473</td>\n",
              "    </tr>\n",
              "  </tbody>\n",
              "</table>\n",
              "</div>"
            ],
            "text/plain": [
              "                                      labels  \\\n",
              "0                                              \n",
              "com.andser.software.spraycans  Entertainment   \n",
              "com.coresense.iFangsLite       Entertainment   \n",
              "com.zoomart.Maze_Scary_Horror  Entertainment   \n",
              "\n",
              "                                                                                                                                                                                                                                                                                                                                                                                                                                                                                                                                  description  \\\n",
              "0                                                                                                                                                                                                                                                                                                                                                                                                                                                                                                                                               \n",
              "com.andser.software.spraycans  Finally you can paint walls with a spray. Create your customized graffiti! Set your color  choose your cap and go! Save  share your creations  or set as wallpapers! Naturally  don't forget to shake your spray can to refill! ***Features: 20 different backgrounds. 5 different spray-sizes Paint leaks effect undo - redo option save  share and set as wallpaper option shake feature! sounds on/off new: now you can insert stars to your creation! Have fun!! Follow AndserLab on Twitter and Facebook!   \n",
              "com.coresense.iFangsLite       Updated with 4 fangs and Galaxy S3 support! Make your friends laugh with  iFangs Lite ! Check out the paid version of iFangs for the full suite of fangs. Scare your parents  put them on your dog  or use them in your next family portrait. With  iFangs Lite   your imagination is the limit! iFangs will seamlessly loop until you're done scaring your friends. To go back to the main menu  simply shake your device.                                                                                      \n",
              "com.zoomart.Maze_Scary_Horror  With this application you can scare your friends. How to play? 1 - Select the monster you want horrible scare. 2 - Use the joystick on the screen of your mobile to control the red ball through the maze. 3 - While progress through the maze  there will come a time when the character suddenly appears you chose a terrible cry  and your friends remain terrified. ✔ Several horrific monsters to scare ✔ Great picture quality ✔ Great sound quality ✔ HD-ready tables ✔ It's free!                        \n",
              "\n",
              "                               desc_len  \n",
              "0                                        \n",
              "com.andser.software.spraycans  494       \n",
              "com.coresense.iFangsLite       411       \n",
              "com.zoomart.Maze_Scary_Horror  473       "
            ]
          },
          "metadata": {
            "tags": []
          },
          "execution_count": 61
        }
      ]
    },
    {
      "metadata": {
        "id": "kViLL0fEirga",
        "colab_type": "text"
      },
      "cell_type": "markdown",
      "source": [
        "## F. Conclusion and future work \n"
      ]
    },
    {
      "metadata": {
        "id": "JtVwKi8nryL9",
        "colab_type": "text"
      },
      "cell_type": "markdown",
      "source": [
        "\n",
        "We looked at our model from **effectiveness** and **efficiency** perspective compared to Sklearn Logistic regression\n",
        "* **effectiveness**: The model developed in this assignment overall showing similar accuracy compared to Sklearn Logistic Regression.\n",
        "* **efficiency** The time spent to train the model is not as efficient as Sklearn Logistic Regression, our model need 8 times more to train the model. This is the area need to look at how to improve the efficiency of our algorithm. This is likely due to training 30 classifier without using multi processing\n"
      ]
    },
    {
      "metadata": {
        "id": "15Y7nHtyryL_",
        "colab_type": "code",
        "colab": {}
      },
      "cell_type": "code",
      "source": [
        "n=3000\n",
        "n_feature_selected=infogain_df.sort_values(by=[0],ascending=True).head(n)\n",
        "new_feature_list=n_feature_selected.index.values\n",
        "## reduced dataframe\n",
        "working_training_data_df_reduced = working_training_data_df.loc[:,new_feature_list]\n",
        "\n",
        "\n",
        "### get X, y  from reduced dataframe\n",
        "X = working_training_data_df_reduced.values\n",
        "y = working_training_data_df_reduced.index.values\n",
        "\n",
        "## convert y to number\n",
        "from sklearn import preprocessing\n",
        "le = preprocessing.LabelEncoder()\n",
        "le.fit(y.ravel())\n",
        "y=le.transform(y.ravel())\n",
        "\n",
        "from sklearn.model_selection import train_test_split\n",
        "X_train, X_test, y_train, y_test = train_test_split(\n",
        "    X, y, test_size=0.1, random_state=99)"
      ],
      "execution_count": 0,
      "outputs": []
    },
    {
      "metadata": {
        "id": "L1Ykfa82ryMB",
        "colab_type": "code",
        "colab": {
          "base_uri": "https://localhost:8080/",
          "height": 34
        },
        "outputId": "f6e7e7cd-5717-445a-8db2-44dd2aa13d14"
      },
      "cell_type": "code",
      "source": [
        "import time\n",
        "from sklearn.linear_model import LogisticRegression\n",
        "start_time = time.time()\n",
        "clf = LogisticRegression()\n",
        "clf.fit(X_train, y_train)\n",
        "predictions = clf.predict(X_test)\n",
        "result_on_logistic = round(accu_test(predictions,y_test),2)\n",
        "elapsed_time = round((time.time() - start_time),2)\n",
        "print(\"Sklearn logistic model accuracy is {}, time is {} seconds\".format(result_on_logistic,elapsed_time))"
      ],
      "execution_count": 0,
      "outputs": [
        {
          "output_type": "stream",
          "text": [
            "Sklearn logistic model accuracy is 0.65, time is 16.8 seconds\n"
          ],
          "name": "stdout"
        }
      ]
    },
    {
      "metadata": {
        "id": "EZ9LrnV1ryMC",
        "colab_type": "code",
        "colab": {
          "base_uri": "https://localhost:8080/",
          "height": 84
        },
        "outputId": "72212557-bb12-4409-9a6f-35ac10963e84"
      },
      "cell_type": "code",
      "source": [
        "Regu = 0.5 ## regularized parameter lambda to reduce overfitting \n",
        "classes = 30\n",
        "solver = 'L-BFGS-B'\n",
        "import time\n",
        "start_time = time.time()\n",
        "using_trainingdata_model = classifier(X_train,y_train,Regu,classes,solver)\n",
        "y_hat =  prediction(X_test,using_trainingdata_model)\n",
        "result_on_mylogistic = round(accu_test(y_hat,y_test),2)\n",
        "elapsed_time = round((time.time() - start_time),2)\n",
        "print(\"Our logistic model accuracy is {}, time is {} seconds\".format(result_on_mylogistic,elapsed_time))"
      ],
      "execution_count": 0,
      "outputs": [
        {
          "output_type": "stream",
          "text": [
            "building model...\n"
          ],
          "name": "stdout"
        },
        {
          "output_type": "stream",
          "text": [
            "/usr/local/lib/python3.6/dist-packages/ipykernel_launcher.py:24: RuntimeWarning: divide by zero encountered in log\n"
          ],
          "name": "stderr"
        },
        {
          "output_type": "stream",
          "text": [
            "model built\n",
            "Our logistic model accuracy is 0.65, time is 163.77 seconds\n"
          ],
          "name": "stdout"
        }
      ]
    },
    {
      "metadata": {
        "id": "il1S9xh5suYH",
        "colab_type": "text"
      },
      "cell_type": "markdown",
      "source": [
        "## G. References"
      ]
    },
    {
      "metadata": {
        "id": "bW7XuBcWs0x2",
        "colab_type": "text"
      },
      "cell_type": "markdown",
      "source": [
        "*You should provide appropriate citations throughout your report and list your references here.*"
      ]
    },
    {
      "metadata": {
        "id": "tB9UVjbwtCRW",
        "colab_type": "text"
      },
      "cell_type": "markdown",
      "source": [
        "list of references\n",
        "\n",
        "1.  Aggarwal C.C., Zhai C. (2012) A Survey of Text Classification Algorithms. In: Aggarwal C., Zhai C. (eds) Mining Text Data. Springer, Boston, MA\n",
        "2.  Minka, Thomas P. \"A comparison of numerical optimizers for logistic regression.\" Unpublished draft (2003).  \n",
        "3. Zhu H., Chen E., Xiong H., Cao H. and Tian J. (2014) 'Mobile App Classification with Enriched Contextual Information', IEEE Transactions on Mobile Computing, vol. 13, no. 7, pp. 1550-1563, accessed 30 April 2018, http://ieeexplore.ieee.org/abstract/document/6585246/\n",
        "4. Rank My App, We need to talk about the app category, accessed 30 April 2018, https://www.rankmyapp.com/market/we-need-to-talk-about-the-app-category/\n",
        "5. Statista 2018, Most popular Google Play app categories as of 1st quarter 2018, by share of available apps, accessed 02 May 2018, https://www.statista.com/statistics/279286/google-play-android-app-categories/\n",
        "6. Apple Inc 2018, Choosing a Category, accessed 02 May 2018, https://developer.apple.com/app-store/categories/\n",
        "7. A Limited Memory Algorithm for Bound Constrained Optimization Richard H. Byrd, Peihuang Lu, Jorge Nocedal, and Ciyou Zhu\n"
      ]
    },
    {
      "metadata": {
        "id": "DzqTre2yu6YJ",
        "colab_type": "text"
      },
      "cell_type": "markdown",
      "source": [
        ""
      ]
    },
    {
      "metadata": {
        "id": "mwUw2n7uu9zH",
        "colab_type": "text"
      },
      "cell_type": "markdown",
      "source": [
        "\n"
      ]
    }
  ]
}